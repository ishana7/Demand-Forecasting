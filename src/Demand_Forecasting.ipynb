{
  "cells": [
    {
      "cell_type": "code",
      "execution_count": null,
      "metadata": {
        "colab": {
          "base_uri": "https://localhost:8080/"
        },
        "id": "ROdkG57jPFFs",
        "outputId": "6586f598-f1cb-4531-ecc7-74d81bbef181"
      },
      "outputs": [
        {
          "name": "stdout",
          "output_type": "stream",
          "text": [
            "Looking in indexes: https://pypi.org/simple, https://us-python.pkg.dev/colab-wheels/public/simple/\n",
            "Requirement already satisfied: pyspark in /usr/local/lib/python3.8/dist-packages (3.3.1)\n",
            "Requirement already satisfied: py4j==0.10.9.5 in /usr/local/lib/python3.8/dist-packages (from pyspark) (0.10.9.5)\n"
          ]
        }
      ],
      "source": [
        "!pip install pyspark"
      ]
    },
    {
      "cell_type": "code",
      "execution_count": null,
      "metadata": {
        "colab": {
          "base_uri": "https://localhost:8080/"
        },
        "id": "TTAUnyeQtjsY",
        "outputId": "976271cd-b275-4547-8d2e-54f918a3fc92"
      },
      "outputs": [
        {
          "name": "stdout",
          "output_type": "stream",
          "text": [
            "Looking in indexes: https://pypi.org/simple, https://us-python.pkg.dev/colab-wheels/public/simple/\n",
            "Requirement already satisfied: prophet in /usr/local/lib/python3.8/dist-packages (1.1.1)\n",
            "Requirement already satisfied: LunarCalendar>=0.0.9 in /usr/local/lib/python3.8/dist-packages (from prophet) (0.0.9)\n",
            "Requirement already satisfied: python-dateutil>=2.8.0 in /usr/local/lib/python3.8/dist-packages (from prophet) (2.8.2)\n",
            "Requirement already satisfied: convertdate>=2.1.2 in /usr/local/lib/python3.8/dist-packages (from prophet) (2.4.0)\n",
            "Requirement already satisfied: setuptools-git>=1.2 in /usr/local/lib/python3.8/dist-packages (from prophet) (1.2)\n",
            "Requirement already satisfied: numpy>=1.15.4 in /usr/local/lib/python3.8/dist-packages (from prophet) (1.21.6)\n",
            "Requirement already satisfied: setuptools>=42 in /usr/local/lib/python3.8/dist-packages (from prophet) (57.4.0)\n",
            "Requirement already satisfied: wheel>=0.37.0 in /usr/local/lib/python3.8/dist-packages (from prophet) (0.38.4)\n",
            "Requirement already satisfied: matplotlib>=2.0.0 in /usr/local/lib/python3.8/dist-packages (from prophet) (3.2.2)\n",
            "Requirement already satisfied: cmdstanpy>=1.0.4 in /usr/local/lib/python3.8/dist-packages (from prophet) (1.0.8)\n",
            "Requirement already satisfied: holidays>=0.14.2 in /usr/local/lib/python3.8/dist-packages (from prophet) (0.17.2)\n",
            "Requirement already satisfied: pandas>=1.0.4 in /usr/local/lib/python3.8/dist-packages (from prophet) (1.3.5)\n",
            "Requirement already satisfied: tqdm>=4.36.1 in /usr/local/lib/python3.8/dist-packages (from prophet) (4.64.1)\n",
            "Requirement already satisfied: pymeeus<=1,>=0.3.13 in /usr/local/lib/python3.8/dist-packages (from convertdate>=2.1.2->prophet) (0.5.11)\n",
            "Requirement already satisfied: hijri-converter in /usr/local/lib/python3.8/dist-packages (from holidays>=0.14.2->prophet) (2.2.4)\n",
            "Requirement already satisfied: korean-lunar-calendar in /usr/local/lib/python3.8/dist-packages (from holidays>=0.14.2->prophet) (0.3.1)\n",
            "Requirement already satisfied: pytz in /usr/local/lib/python3.8/dist-packages (from LunarCalendar>=0.0.9->prophet) (2022.6)\n",
            "Requirement already satisfied: ephem>=3.7.5.3 in /usr/local/lib/python3.8/dist-packages (from LunarCalendar>=0.0.9->prophet) (4.1.3)\n",
            "Requirement already satisfied: kiwisolver>=1.0.1 in /usr/local/lib/python3.8/dist-packages (from matplotlib>=2.0.0->prophet) (1.4.4)\n",
            "Requirement already satisfied: cycler>=0.10 in /usr/local/lib/python3.8/dist-packages (from matplotlib>=2.0.0->prophet) (0.11.0)\n",
            "Requirement already satisfied: pyparsing!=2.0.4,!=2.1.2,!=2.1.6,>=2.0.1 in /usr/local/lib/python3.8/dist-packages (from matplotlib>=2.0.0->prophet) (3.0.9)\n",
            "Requirement already satisfied: six>=1.5 in /usr/local/lib/python3.8/dist-packages (from python-dateutil>=2.8.0->prophet) (1.15.0)\n"
          ]
        }
      ],
      "source": [
        "!pip install prophet"
      ]
    },
    {
      "cell_type": "markdown",
      "metadata": {
        "id": "46WDIGrctj9a"
      },
      "source": [
        "**SAVE BEFORE STARTING!!!**"
      ]
    },
    {
      "cell_type": "code",
      "execution_count": null,
      "metadata": {
        "id": "ppGUU9oHXtc-"
      },
      "outputs": [],
      "source": [
        "from pyspark.sql import SparkSession\n",
        "from pyspark import SparkConf, SparkContext\n",
        "spark = SparkSession.builder.appName(\"Demand Forecasting\").getOrCreate()"
      ]
    },
    {
      "cell_type": "code",
      "execution_count": null,
      "metadata": {
        "id": "y06Y0JWo0yKv"
      },
      "outputs": [],
      "source": [
        "train = spark.read.csv('train_file.csv', header=True)"
      ]
    },
    {
      "cell_type": "code",
      "execution_count": null,
      "metadata": {
        "id": "ynu-o86r5QtS"
      },
      "outputs": [],
      "source": [
        "items = spark.read.csv('items.csv', header=True)"
      ]
    },
    {
      "cell_type": "code",
      "execution_count": null,
      "metadata": {
        "id": "aKQUi6GI8Nd_"
      },
      "outputs": [],
      "source": [
        "store = spark.read.csv('stores.csv', header=True)\n",
        "transactions = spark.read.csv('transactions.csv', header=True)"
      ]
    },
    {
      "cell_type": "code",
      "execution_count": null,
      "metadata": {
        "id": "OqfwoKHyvWiU"
      },
      "outputs": [],
      "source": [
        "holidays_events = spark.read.csv('holidays_events.csv', header=True)"
      ]
    },
    {
      "cell_type": "code",
      "execution_count": null,
      "metadata": {
        "id": "cU9yZ5evwmyM"
      },
      "outputs": [],
      "source": [
        "holidays_events = holidays_events.withColumnRenamed('type','holiday_type')"
      ]
    },
    {
      "cell_type": "code",
      "execution_count": null,
      "metadata": {
        "id": "XgFE-XSLBjd7"
      },
      "outputs": [],
      "source": [
        "transactions = transactions.withColumnRenamed('date','tdate')"
      ]
    },
    {
      "cell_type": "code",
      "execution_count": null,
      "metadata": {
        "colab": {
          "base_uri": "https://localhost:8080/"
        },
        "id": "nZEN6FAbB9FN",
        "outputId": "6463ae53-86e2-4a49-b15b-50fa34c72fb0"
      },
      "outputs": [
        {
          "name": "stdout",
          "output_type": "stream",
          "text": [
            "+---------+-------------+--------------------+----+-------+\n",
            "|store_nbr|         city|               state|type|cluster|\n",
            "+---------+-------------+--------------------+----+-------+\n",
            "|        1|        Quito|           Pichincha|   D|     13|\n",
            "|        2|        Quito|           Pichincha|   D|     13|\n",
            "|        3|        Quito|           Pichincha|   D|      8|\n",
            "|        4|        Quito|           Pichincha|   D|      9|\n",
            "|        5|Santo Domingo|Santo Domingo de ...|   D|      4|\n",
            "|        6|        Quito|           Pichincha|   D|     13|\n",
            "|        7|        Quito|           Pichincha|   D|      8|\n",
            "|        8|        Quito|           Pichincha|   D|      8|\n",
            "|        9|        Quito|           Pichincha|   B|      6|\n",
            "|       10|        Quito|           Pichincha|   C|     15|\n",
            "|       11|      Cayambe|           Pichincha|   B|      6|\n",
            "|       12|    Latacunga|            Cotopaxi|   C|     15|\n",
            "|       13|    Latacunga|            Cotopaxi|   C|     15|\n",
            "|       14|     Riobamba|          Chimborazo|   C|      7|\n",
            "|       15|       Ibarra|            Imbabura|   C|     15|\n",
            "|       16|Santo Domingo|Santo Domingo de ...|   C|      3|\n",
            "|       17|        Quito|           Pichincha|   C|     12|\n",
            "|       18|        Quito|           Pichincha|   B|     16|\n",
            "|       19|     Guaranda|             Bolivar|   C|     15|\n",
            "|       20|        Quito|           Pichincha|   B|      6|\n",
            "+---------+-------------+--------------------+----+-------+\n",
            "only showing top 20 rows\n",
            "\n"
          ]
        }
      ],
      "source": [
        "store.show()"
      ]
    },
    {
      "cell_type": "code",
      "execution_count": null,
      "metadata": {
        "colab": {
          "base_uri": "https://localhost:8080/"
        },
        "id": "Z1HamUjL05Uz",
        "outputId": "ba7ca882-c6bd-45be-ba3b-6cd6bf2922ee"
      },
      "outputs": [
        {
          "name": "stdout",
          "output_type": "stream",
          "text": [
            "+----------+---------+------------+\n",
            "|     tdate|store_nbr|transactions|\n",
            "+----------+---------+------------+\n",
            "|2013-01-01|       25|         770|\n",
            "|2013-01-02|        1|        2111|\n",
            "|2013-01-02|        2|        2358|\n",
            "|2013-01-02|        3|        3487|\n",
            "|2013-01-02|        4|        1922|\n",
            "|2013-01-02|        5|        1903|\n",
            "|2013-01-02|        6|        2143|\n",
            "|2013-01-02|        7|        1874|\n",
            "|2013-01-02|        8|        3250|\n",
            "|2013-01-02|        9|        2940|\n",
            "|2013-01-02|       10|        1293|\n",
            "|2013-01-02|       11|        3547|\n",
            "|2013-01-02|       12|        1362|\n",
            "|2013-01-02|       13|        1102|\n",
            "|2013-01-02|       14|        2002|\n",
            "|2013-01-02|       15|        1622|\n",
            "|2013-01-02|       16|        1167|\n",
            "|2013-01-02|       17|        1580|\n",
            "|2013-01-02|       18|        1635|\n",
            "|2013-01-02|       19|        1369|\n",
            "+----------+---------+------------+\n",
            "only showing top 20 rows\n",
            "\n"
          ]
        }
      ],
      "source": [
        "transactions.show()"
      ]
    },
    {
      "cell_type": "code",
      "execution_count": null,
      "metadata": {
        "id": "ygnmPf_R7djA"
      },
      "outputs": [],
      "source": [
        "import pyspark.sql.functions as f\n",
        "items_train = train.alias(\"d1\").join(items.alias(\"d2\"), f.col(\"d1.item_nbr\") == f.col(\"d2.item_nbr\"), \"left\").drop(train.item_nbr)\n",
        "store_itemTrain = items_train.alias(\"d1\").join(store.alias(\"d2\"), f.col(\"d1.store_nbr\") == f.col(\"d2.store_nbr\"), \"left\").drop(items_train.store_nbr)\n"
      ]
    },
    {
      "cell_type": "code",
      "execution_count": null,
      "metadata": {
        "colab": {
          "base_uri": "https://localhost:8080/"
        },
        "id": "VOsQDeWWpePK",
        "outputId": "27bfb6ef-2d1d-4054-d6fc-e3dd293b80ba"
      },
      "outputs": [
        {
          "name": "stdout",
          "output_type": "stream",
          "text": [
            "+---+----------+---------+----------+--------+-------------+-----+----------+\n",
            "| id|      date|store_nbr|unit_sales|item_nbr|       family|class|perishable|\n",
            "+---+----------+---------+----------+--------+-------------+-----+----------+\n",
            "|  0|2013-01-01|       25|         7|  103665| BREAD/BAKERY| 2712|         1|\n",
            "|  1|2013-01-01|       25|         1|  105574|    GROCERY I| 1045|         0|\n",
            "|  2|2013-01-01|       25|         2|  105575|    GROCERY I| 1045|         0|\n",
            "|  3|2013-01-01|       25|         1|  108079|    GROCERY I| 1030|         0|\n",
            "|  4|2013-01-01|       25|         1|  108701|         DELI| 2644|         1|\n",
            "|  5|2013-01-01|       25|         3|  108786|     CLEANING| 3044|         0|\n",
            "|  6|2013-01-01|       25|         1|  108797|    GROCERY I| 1004|         0|\n",
            "|  7|2013-01-01|       25|         1|  108952|     CLEANING| 3024|         0|\n",
            "|  8|2013-01-01|       25|        13|  111397|    GROCERY I| 1072|         0|\n",
            "|  9|2013-01-01|       25|         3|  114790|    GROCERY I| 1004|         0|\n",
            "| 10|2013-01-01|       25|         1|  114800|PERSONAL CARE| 4126|         0|\n",
            "| 11|2013-01-01|       25|         1|  115267|     CLEANING| 3034|         0|\n",
            "| 12|2013-01-01|       25|         1|  115611|    GROCERY I| 1014|         0|\n",
            "| 13|2013-01-01|       25|         1|  115693|    GROCERY I| 1040|         0|\n",
            "| 14|2013-01-01|       25|         5|  115720|    GROCERY I| 1084|         0|\n",
            "| 15|2013-01-01|       25|         1|  115850|    GROCERY I| 1004|         0|\n",
            "| 16|2013-01-01|       25|         6|  115891|    GROCERY I| 1016|         0|\n",
            "| 17|2013-01-01|       25|        10|  115892|    GROCERY I| 1016|         0|\n",
            "| 18|2013-01-01|       25|         5|  115894|    GROCERY I| 1016|         0|\n",
            "| 19|2013-01-01|       25|         1|  119024|     CLEANING| 3026|         0|\n",
            "+---+----------+---------+----------+--------+-------------+-----+----------+\n",
            "only showing top 20 rows\n",
            "\n"
          ]
        }
      ],
      "source": [
        "# Joining Train data with items \n",
        "items_train.show()"
      ]
    },
    {
      "cell_type": "code",
      "execution_count": null,
      "metadata": {
        "colab": {
          "base_uri": "https://localhost:8080/"
        },
        "id": "s2ovv2DFqyCQ",
        "outputId": "60a50946-8f52-4daa-8b35-8b906a07e3c4"
      },
      "outputs": [
        {
          "name": "stdout",
          "output_type": "stream",
          "text": [
            "root\n",
            " |-- id: string (nullable = true)\n",
            " |-- date: string (nullable = true)\n",
            " |-- unit_sales: string (nullable = true)\n",
            " |-- item_nbr: string (nullable = true)\n",
            " |-- family: string (nullable = true)\n",
            " |-- class: string (nullable = true)\n",
            " |-- perishable: string (nullable = true)\n",
            " |-- store_nbr: string (nullable = true)\n",
            " |-- city: string (nullable = true)\n",
            " |-- state: string (nullable = true)\n",
            " |-- type: string (nullable = true)\n",
            " |-- cluster: string (nullable = true)\n",
            "\n"
          ]
        }
      ],
      "source": [
        "#Train + Items + Store\n",
        "store_itemTrain.printSchema()"
      ]
    },
    {
      "cell_type": "code",
      "execution_count": null,
      "metadata": {
        "colab": {
          "base_uri": "https://localhost:8080/"
        },
        "id": "NdXyokBNpmVV",
        "outputId": "c42697a0-6717-4cb1-c864-e9e33f3606bd"
      },
      "outputs": [
        {
          "name": "stdout",
          "output_type": "stream",
          "text": [
            "+---+----------+----------+--------+-------------+-----+----------+---------+-------+-----------+----+-------+\n",
            "| id|      date|unit_sales|item_nbr|       family|class|perishable|store_nbr|   city|      state|type|cluster|\n",
            "+---+----------+----------+--------+-------------+-----+----------+---------+-------+-----------+----+-------+\n",
            "|  0|2013-01-01|         7|  103665| BREAD/BAKERY| 2712|         1|       25|Salinas|Santa Elena|   D|      1|\n",
            "|  1|2013-01-01|         1|  105574|    GROCERY I| 1045|         0|       25|Salinas|Santa Elena|   D|      1|\n",
            "|  2|2013-01-01|         2|  105575|    GROCERY I| 1045|         0|       25|Salinas|Santa Elena|   D|      1|\n",
            "|  3|2013-01-01|         1|  108079|    GROCERY I| 1030|         0|       25|Salinas|Santa Elena|   D|      1|\n",
            "|  4|2013-01-01|         1|  108701|         DELI| 2644|         1|       25|Salinas|Santa Elena|   D|      1|\n",
            "|  5|2013-01-01|         3|  108786|     CLEANING| 3044|         0|       25|Salinas|Santa Elena|   D|      1|\n",
            "|  6|2013-01-01|         1|  108797|    GROCERY I| 1004|         0|       25|Salinas|Santa Elena|   D|      1|\n",
            "|  7|2013-01-01|         1|  108952|     CLEANING| 3024|         0|       25|Salinas|Santa Elena|   D|      1|\n",
            "|  8|2013-01-01|        13|  111397|    GROCERY I| 1072|         0|       25|Salinas|Santa Elena|   D|      1|\n",
            "|  9|2013-01-01|         3|  114790|    GROCERY I| 1004|         0|       25|Salinas|Santa Elena|   D|      1|\n",
            "| 10|2013-01-01|         1|  114800|PERSONAL CARE| 4126|         0|       25|Salinas|Santa Elena|   D|      1|\n",
            "| 11|2013-01-01|         1|  115267|     CLEANING| 3034|         0|       25|Salinas|Santa Elena|   D|      1|\n",
            "| 12|2013-01-01|         1|  115611|    GROCERY I| 1014|         0|       25|Salinas|Santa Elena|   D|      1|\n",
            "| 13|2013-01-01|         1|  115693|    GROCERY I| 1040|         0|       25|Salinas|Santa Elena|   D|      1|\n",
            "| 14|2013-01-01|         5|  115720|    GROCERY I| 1084|         0|       25|Salinas|Santa Elena|   D|      1|\n",
            "| 15|2013-01-01|         1|  115850|    GROCERY I| 1004|         0|       25|Salinas|Santa Elena|   D|      1|\n",
            "| 16|2013-01-01|         6|  115891|    GROCERY I| 1016|         0|       25|Salinas|Santa Elena|   D|      1|\n",
            "| 17|2013-01-01|        10|  115892|    GROCERY I| 1016|         0|       25|Salinas|Santa Elena|   D|      1|\n",
            "| 18|2013-01-01|         5|  115894|    GROCERY I| 1016|         0|       25|Salinas|Santa Elena|   D|      1|\n",
            "| 19|2013-01-01|         1|  119024|     CLEANING| 3026|         0|       25|Salinas|Santa Elena|   D|      1|\n",
            "+---+----------+----------+--------+-------------+-----+----------+---------+-------+-----------+----+-------+\n",
            "only showing top 20 rows\n",
            "\n"
          ]
        }
      ],
      "source": [
        "store_itemTrain.show()"
      ]
    },
    {
      "cell_type": "code",
      "execution_count": null,
      "metadata": {
        "id": "mJIqPRPeu202"
      },
      "outputs": [],
      "source": [
        "# from pyspark.sql.functions import *\n",
        "# date_field = store_itemTrain.select('date')\n",
        "# r=to_date(col(\"date_field\"),\"MM-dd-yyyy\"))\n"
      ]
    },
    {
      "cell_type": "code",
      "execution_count": null,
      "metadata": {
        "colab": {
          "base_uri": "https://localhost:8080/"
        },
        "id": "7WGCOKsnygzq",
        "outputId": "28210442-3621-4fa8-da31-60df5ff110b2"
      },
      "outputs": [
        {
          "name": "stdout",
          "output_type": "stream",
          "text": [
            "+---+----------+----------+--------+------------+-----+----------+---------+-------+-----------+----+-------+\n",
            "| id|      date|unit_sales|item_nbr|      family|class|perishable|store_nbr|   city|      state|type|cluster|\n",
            "+---+----------+----------+--------+------------+-----+----------+---------+-------+-----------+----+-------+\n",
            "|  0|2013-01-01|         7|  103665|BREAD/BAKERY| 2712|         1|       25|Salinas|Santa Elena|   D|      1|\n",
            "|  1|2013-01-01|         1|  105574|   GROCERY I| 1045|         0|       25|Salinas|Santa Elena|   D|      1|\n",
            "+---+----------+----------+--------+------------+-----+----------+---------+-------+-----------+----+-------+\n",
            "only showing top 2 rows\n",
            "\n"
          ]
        }
      ],
      "source": [
        "store_itemTrain.show(2)"
      ]
    },
    {
      "cell_type": "code",
      "execution_count": null,
      "metadata": {
        "id": "YdFP0fSi18xf"
      },
      "outputs": [],
      "source": [
        "# from pyspark.sql.functions import *\n",
        "# store_itemTrain.select(\"date\",to_date(\"date\",\"yyyy-MM-dd\")).show()"
      ]
    },
    {
      "cell_type": "code",
      "execution_count": null,
      "metadata": {
        "id": "NucQOB6owaGc"
      },
      "outputs": [],
      "source": [
        "# store_itemTrain=store_itemTrain.select(col(\"id\"),col(\"unit_sales\"),col(\"item_nbr\"),col(\"family\"),col(\"family\"),col(\"class\"),col(\"perishable\"),col(\"date\"),col('store_nbr'),col('city'),col('state'),col('type'),col('cluster'),to_date(col(\"date\"),\"\").alias(\"store_itemTrain_date\"))"
      ]
    },
    {
      "cell_type": "code",
      "execution_count": null,
      "metadata": {
        "colab": {
          "base_uri": "https://localhost:8080/"
        },
        "id": "lkw_jOjrwxSf",
        "outputId": "cd8cce60-ce32-4c37-efb9-bb7acb627bf5"
      },
      "outputs": [
        {
          "name": "stdout",
          "output_type": "stream",
          "text": [
            "root\n",
            " |-- id: string (nullable = true)\n",
            " |-- date: string (nullable = true)\n",
            " |-- unit_sales: string (nullable = true)\n",
            " |-- item_nbr: string (nullable = true)\n",
            " |-- family: string (nullable = true)\n",
            " |-- class: string (nullable = true)\n",
            " |-- perishable: string (nullable = true)\n",
            " |-- store_nbr: string (nullable = true)\n",
            " |-- city: string (nullable = true)\n",
            " |-- state: string (nullable = true)\n",
            " |-- type: string (nullable = true)\n",
            " |-- cluster: string (nullable = true)\n",
            "\n"
          ]
        }
      ],
      "source": [
        "store_itemTrain.printSchema()"
      ]
    },
    {
      "cell_type": "code",
      "execution_count": null,
      "metadata": {
        "id": "Qo-tl0GipdWO"
      },
      "outputs": [],
      "source": [
        "df3 = store_itemTrain.alias(\"st\").join(transactions.alias(\"t\"),(f.col(\"st.store_nbr\") == f.col(\"t.store_nbr\")) & (f.col(\"st.date\") == f.col(\"t.tdate\")), \"left\").drop(store_itemTrain.store_nbr)"
      ]
    },
    {
      "cell_type": "code",
      "execution_count": null,
      "metadata": {
        "id": "aSxUwY5mscDj"
      },
      "outputs": [],
      "source": [
        "# df3 = store_itemTrain.alias(\"st\").join(transactions.alias(\"t\"),f.col(\"st.store_nbr\") == f.col(\"t.store_nbr\"), \"left\").drop(store_itemTrain.store_nbr)"
      ]
    },
    {
      "cell_type": "code",
      "execution_count": null,
      "metadata": {
        "id": "n_WFwB_rsB4a"
      },
      "outputs": [],
      "source": [
        "df3=df3.drop('tdate')"
      ]
    },
    {
      "cell_type": "code",
      "execution_count": null,
      "metadata": {
        "colab": {
          "base_uri": "https://localhost:8080/"
        },
        "id": "Akr0nnZ7izNy",
        "outputId": "c2edd30a-3384-4708-9843-114a0e585c53"
      },
      "outputs": [
        {
          "name": "stdout",
          "output_type": "stream",
          "text": [
            "+---+----------+----------+--------+-------------+-----+----------+-------+-----------+----+-------+---------+------------+\n",
            "| id|      date|unit_sales|item_nbr|       family|class|perishable|   city|      state|type|cluster|store_nbr|transactions|\n",
            "+---+----------+----------+--------+-------------+-----+----------+-------+-----------+----+-------+---------+------------+\n",
            "|  0|2013-01-01|         7|  103665| BREAD/BAKERY| 2712|         1|Salinas|Santa Elena|   D|      1|       25|         770|\n",
            "|  1|2013-01-01|         1|  105574|    GROCERY I| 1045|         0|Salinas|Santa Elena|   D|      1|       25|         770|\n",
            "|  2|2013-01-01|         2|  105575|    GROCERY I| 1045|         0|Salinas|Santa Elena|   D|      1|       25|         770|\n",
            "|  3|2013-01-01|         1|  108079|    GROCERY I| 1030|         0|Salinas|Santa Elena|   D|      1|       25|         770|\n",
            "|  4|2013-01-01|         1|  108701|         DELI| 2644|         1|Salinas|Santa Elena|   D|      1|       25|         770|\n",
            "|  5|2013-01-01|         3|  108786|     CLEANING| 3044|         0|Salinas|Santa Elena|   D|      1|       25|         770|\n",
            "|  6|2013-01-01|         1|  108797|    GROCERY I| 1004|         0|Salinas|Santa Elena|   D|      1|       25|         770|\n",
            "|  7|2013-01-01|         1|  108952|     CLEANING| 3024|         0|Salinas|Santa Elena|   D|      1|       25|         770|\n",
            "|  8|2013-01-01|        13|  111397|    GROCERY I| 1072|         0|Salinas|Santa Elena|   D|      1|       25|         770|\n",
            "|  9|2013-01-01|         3|  114790|    GROCERY I| 1004|         0|Salinas|Santa Elena|   D|      1|       25|         770|\n",
            "| 10|2013-01-01|         1|  114800|PERSONAL CARE| 4126|         0|Salinas|Santa Elena|   D|      1|       25|         770|\n",
            "| 11|2013-01-01|         1|  115267|     CLEANING| 3034|         0|Salinas|Santa Elena|   D|      1|       25|         770|\n",
            "| 12|2013-01-01|         1|  115611|    GROCERY I| 1014|         0|Salinas|Santa Elena|   D|      1|       25|         770|\n",
            "| 13|2013-01-01|         1|  115693|    GROCERY I| 1040|         0|Salinas|Santa Elena|   D|      1|       25|         770|\n",
            "| 14|2013-01-01|         5|  115720|    GROCERY I| 1084|         0|Salinas|Santa Elena|   D|      1|       25|         770|\n",
            "| 15|2013-01-01|         1|  115850|    GROCERY I| 1004|         0|Salinas|Santa Elena|   D|      1|       25|         770|\n",
            "| 16|2013-01-01|         6|  115891|    GROCERY I| 1016|         0|Salinas|Santa Elena|   D|      1|       25|         770|\n",
            "| 17|2013-01-01|        10|  115892|    GROCERY I| 1016|         0|Salinas|Santa Elena|   D|      1|       25|         770|\n",
            "| 18|2013-01-01|         5|  115894|    GROCERY I| 1016|         0|Salinas|Santa Elena|   D|      1|       25|         770|\n",
            "| 19|2013-01-01|         1|  119024|     CLEANING| 3026|         0|Salinas|Santa Elena|   D|      1|       25|         770|\n",
            "+---+----------+----------+--------+-------------+-----+----------+-------+-----------+----+-------+---------+------------+\n",
            "only showing top 20 rows\n",
            "\n"
          ]
        }
      ],
      "source": [
        "df3.show()"
      ]
    },
    {
      "cell_type": "code",
      "execution_count": null,
      "metadata": {
        "id": "DzVYTyuL1Ayw"
      },
      "outputs": [],
      "source": [
        "oil = spark.read.csv('oil.csv', header=True)"
      ]
    },
    {
      "cell_type": "code",
      "execution_count": null,
      "metadata": {
        "colab": {
          "base_uri": "https://localhost:8080/"
        },
        "id": "aotrdmz44TT6",
        "outputId": "e6b796a3-cbeb-42a6-c609-605c047597ec"
      },
      "outputs": [
        {
          "name": "stdout",
          "output_type": "stream",
          "text": [
            "+----------+----------+\n",
            "|      date|dcoilwtico|\n",
            "+----------+----------+\n",
            "|2013-01-01|      null|\n",
            "|2013-01-02|     93.14|\n",
            "|2013-01-03|     92.97|\n",
            "|2013-01-04|     93.12|\n",
            "|2013-01-07|      93.2|\n",
            "|2013-01-08|     93.21|\n",
            "|2013-01-09|     93.08|\n",
            "|2013-01-10|     93.81|\n",
            "|2013-01-11|      93.6|\n",
            "|2013-01-14|     94.27|\n",
            "|2013-01-15|     93.26|\n",
            "|2013-01-16|     94.28|\n",
            "|2013-01-17|     95.49|\n",
            "|2013-01-18|     95.61|\n",
            "|2013-01-21|      null|\n",
            "|2013-01-22|     96.09|\n",
            "|2013-01-23|     95.06|\n",
            "|2013-01-24|     95.35|\n",
            "|2013-01-25|     95.15|\n",
            "|2013-01-28|     95.95|\n",
            "+----------+----------+\n",
            "only showing top 20 rows\n",
            "\n"
          ]
        }
      ],
      "source": [
        "oil.show()"
      ]
    },
    {
      "cell_type": "code",
      "execution_count": null,
      "metadata": {
        "id": "w1nUOulznoDI"
      },
      "outputs": [],
      "source": [
        "df4 = df3.join(oil, ['date'], 'left')"
      ]
    },
    {
      "cell_type": "code",
      "execution_count": null,
      "metadata": {
        "colab": {
          "base_uri": "https://localhost:8080/"
        },
        "id": "ysMyNRqRnwFu",
        "outputId": "af39dca8-8c95-43c3-aa2b-2b51893438b3"
      },
      "outputs": [
        {
          "name": "stdout",
          "output_type": "stream",
          "text": [
            "+----------+---+----------+--------+-------------+-----+----------+-------+-----------+----+-------+---------+------------+----------+\n",
            "|      date| id|unit_sales|item_nbr|       family|class|perishable|   city|      state|type|cluster|store_nbr|transactions|dcoilwtico|\n",
            "+----------+---+----------+--------+-------------+-----+----------+-------+-----------+----+-------+---------+------------+----------+\n",
            "|2013-01-01|  0|         7|  103665| BREAD/BAKERY| 2712|         1|Salinas|Santa Elena|   D|      1|       25|         770|      null|\n",
            "|2013-01-01|  1|         1|  105574|    GROCERY I| 1045|         0|Salinas|Santa Elena|   D|      1|       25|         770|      null|\n",
            "|2013-01-01|  2|         2|  105575|    GROCERY I| 1045|         0|Salinas|Santa Elena|   D|      1|       25|         770|      null|\n",
            "|2013-01-01|  3|         1|  108079|    GROCERY I| 1030|         0|Salinas|Santa Elena|   D|      1|       25|         770|      null|\n",
            "|2013-01-01|  4|         1|  108701|         DELI| 2644|         1|Salinas|Santa Elena|   D|      1|       25|         770|      null|\n",
            "|2013-01-01|  5|         3|  108786|     CLEANING| 3044|         0|Salinas|Santa Elena|   D|      1|       25|         770|      null|\n",
            "|2013-01-01|  6|         1|  108797|    GROCERY I| 1004|         0|Salinas|Santa Elena|   D|      1|       25|         770|      null|\n",
            "|2013-01-01|  7|         1|  108952|     CLEANING| 3024|         0|Salinas|Santa Elena|   D|      1|       25|         770|      null|\n",
            "|2013-01-01|  8|        13|  111397|    GROCERY I| 1072|         0|Salinas|Santa Elena|   D|      1|       25|         770|      null|\n",
            "|2013-01-01|  9|         3|  114790|    GROCERY I| 1004|         0|Salinas|Santa Elena|   D|      1|       25|         770|      null|\n",
            "|2013-01-01| 10|         1|  114800|PERSONAL CARE| 4126|         0|Salinas|Santa Elena|   D|      1|       25|         770|      null|\n",
            "|2013-01-01| 11|         1|  115267|     CLEANING| 3034|         0|Salinas|Santa Elena|   D|      1|       25|         770|      null|\n",
            "|2013-01-01| 12|         1|  115611|    GROCERY I| 1014|         0|Salinas|Santa Elena|   D|      1|       25|         770|      null|\n",
            "|2013-01-01| 13|         1|  115693|    GROCERY I| 1040|         0|Salinas|Santa Elena|   D|      1|       25|         770|      null|\n",
            "|2013-01-01| 14|         5|  115720|    GROCERY I| 1084|         0|Salinas|Santa Elena|   D|      1|       25|         770|      null|\n",
            "|2013-01-01| 15|         1|  115850|    GROCERY I| 1004|         0|Salinas|Santa Elena|   D|      1|       25|         770|      null|\n",
            "|2013-01-01| 16|         6|  115891|    GROCERY I| 1016|         0|Salinas|Santa Elena|   D|      1|       25|         770|      null|\n",
            "|2013-01-01| 17|        10|  115892|    GROCERY I| 1016|         0|Salinas|Santa Elena|   D|      1|       25|         770|      null|\n",
            "|2013-01-01| 18|         5|  115894|    GROCERY I| 1016|         0|Salinas|Santa Elena|   D|      1|       25|         770|      null|\n",
            "|2013-01-01| 19|         1|  119024|     CLEANING| 3026|         0|Salinas|Santa Elena|   D|      1|       25|         770|      null|\n",
            "+----------+---+----------+--------+-------------+-----+----------+-------+-----------+----+-------+---------+------------+----------+\n",
            "only showing top 20 rows\n",
            "\n"
          ]
        }
      ],
      "source": [
        "df4.show()"
      ]
    },
    {
      "cell_type": "code",
      "execution_count": null,
      "metadata": {
        "colab": {
          "base_uri": "https://localhost:8080/"
        },
        "id": "T89wvfjDtX6U",
        "outputId": "1a840c07-dec3-4a05-b755-2b775b556a7f"
      },
      "outputs": [
        {
          "name": "stdout",
          "output_type": "stream",
          "text": [
            "root\n",
            " |-- date: string (nullable = true)\n",
            " |-- id: string (nullable = true)\n",
            " |-- unit_sales: string (nullable = true)\n",
            " |-- item_nbr: string (nullable = true)\n",
            " |-- family: string (nullable = true)\n",
            " |-- class: string (nullable = true)\n",
            " |-- perishable: string (nullable = true)\n",
            " |-- city: string (nullable = true)\n",
            " |-- state: string (nullable = true)\n",
            " |-- type: string (nullable = true)\n",
            " |-- cluster: string (nullable = true)\n",
            " |-- store_nbr: string (nullable = true)\n",
            " |-- transactions: string (nullable = true)\n",
            " |-- dcoilwtico: string (nullable = true)\n",
            "\n"
          ]
        }
      ],
      "source": [
        "df4.printSchema()"
      ]
    },
    {
      "cell_type": "code",
      "execution_count": null,
      "metadata": {
        "id": "zGocbip9thQ1"
      },
      "outputs": [],
      "source": [
        "import pyspark.sql.functions as func\n",
        "df4 = df4.withColumn(\"dcoilwtico\", func.round(df4[\"dcoilwtico\"]).cast('integer'))"
      ]
    },
    {
      "cell_type": "code",
      "execution_count": null,
      "metadata": {
        "id": "K2gexxBVot2I"
      },
      "outputs": [],
      "source": [
        "df4 = df4.na.fill(value=0,subset=[\"dcoilwtico\"])"
      ]
    },
    {
      "cell_type": "code",
      "execution_count": null,
      "metadata": {
        "colab": {
          "base_uri": "https://localhost:8080/"
        },
        "id": "0mq6-AERt976",
        "outputId": "c15d7f01-8300-4ef8-fc04-c5d2fce40a7c"
      },
      "outputs": [
        {
          "name": "stdout",
          "output_type": "stream",
          "text": [
            "+----------+---+----------+--------+-------------+-----+----------+-------+-----------+----+-------+---------+------------+----------+\n",
            "|      date| id|unit_sales|item_nbr|       family|class|perishable|   city|      state|type|cluster|store_nbr|transactions|dcoilwtico|\n",
            "+----------+---+----------+--------+-------------+-----+----------+-------+-----------+----+-------+---------+------------+----------+\n",
            "|2013-01-01|  0|         7|  103665| BREAD/BAKERY| 2712|         1|Salinas|Santa Elena|   D|      1|       25|         770|         0|\n",
            "|2013-01-01|  1|         1|  105574|    GROCERY I| 1045|         0|Salinas|Santa Elena|   D|      1|       25|         770|         0|\n",
            "|2013-01-01|  2|         2|  105575|    GROCERY I| 1045|         0|Salinas|Santa Elena|   D|      1|       25|         770|         0|\n",
            "|2013-01-01|  3|         1|  108079|    GROCERY I| 1030|         0|Salinas|Santa Elena|   D|      1|       25|         770|         0|\n",
            "|2013-01-01|  4|         1|  108701|         DELI| 2644|         1|Salinas|Santa Elena|   D|      1|       25|         770|         0|\n",
            "|2013-01-01|  5|         3|  108786|     CLEANING| 3044|         0|Salinas|Santa Elena|   D|      1|       25|         770|         0|\n",
            "|2013-01-01|  6|         1|  108797|    GROCERY I| 1004|         0|Salinas|Santa Elena|   D|      1|       25|         770|         0|\n",
            "|2013-01-01|  7|         1|  108952|     CLEANING| 3024|         0|Salinas|Santa Elena|   D|      1|       25|         770|         0|\n",
            "|2013-01-01|  8|        13|  111397|    GROCERY I| 1072|         0|Salinas|Santa Elena|   D|      1|       25|         770|         0|\n",
            "|2013-01-01|  9|         3|  114790|    GROCERY I| 1004|         0|Salinas|Santa Elena|   D|      1|       25|         770|         0|\n",
            "|2013-01-01| 10|         1|  114800|PERSONAL CARE| 4126|         0|Salinas|Santa Elena|   D|      1|       25|         770|         0|\n",
            "|2013-01-01| 11|         1|  115267|     CLEANING| 3034|         0|Salinas|Santa Elena|   D|      1|       25|         770|         0|\n",
            "|2013-01-01| 12|         1|  115611|    GROCERY I| 1014|         0|Salinas|Santa Elena|   D|      1|       25|         770|         0|\n",
            "|2013-01-01| 13|         1|  115693|    GROCERY I| 1040|         0|Salinas|Santa Elena|   D|      1|       25|         770|         0|\n",
            "|2013-01-01| 14|         5|  115720|    GROCERY I| 1084|         0|Salinas|Santa Elena|   D|      1|       25|         770|         0|\n",
            "|2013-01-01| 15|         1|  115850|    GROCERY I| 1004|         0|Salinas|Santa Elena|   D|      1|       25|         770|         0|\n",
            "|2013-01-01| 16|         6|  115891|    GROCERY I| 1016|         0|Salinas|Santa Elena|   D|      1|       25|         770|         0|\n",
            "|2013-01-01| 17|        10|  115892|    GROCERY I| 1016|         0|Salinas|Santa Elena|   D|      1|       25|         770|         0|\n",
            "|2013-01-01| 18|         5|  115894|    GROCERY I| 1016|         0|Salinas|Santa Elena|   D|      1|       25|         770|         0|\n",
            "|2013-01-01| 19|         1|  119024|     CLEANING| 3026|         0|Salinas|Santa Elena|   D|      1|       25|         770|         0|\n",
            "+----------+---+----------+--------+-------------+-----+----------+-------+-----------+----+-------+---------+------------+----------+\n",
            "only showing top 20 rows\n",
            "\n"
          ]
        }
      ],
      "source": [
        "df4.show()"
      ]
    },
    {
      "cell_type": "code",
      "execution_count": null,
      "metadata": {
        "id": "l7yn0TqQsmrL"
      },
      "outputs": [],
      "source": [
        "df5 = df4.join(holidays_events, ['date'], 'left')"
      ]
    },
    {
      "cell_type": "code",
      "execution_count": null,
      "metadata": {
        "colab": {
          "base_uri": "https://localhost:8080/"
        },
        "id": "P9CwQxJyvhqw",
        "outputId": "42931f79-6c4b-4799-ea24-464fdb5cc496"
      },
      "outputs": [
        {
          "name": "stdout",
          "output_type": "stream",
          "text": [
            "+----------+----------+--------+-------------+-----+----------+-------+-----------+----+-------+---------+------------+----------+------------+--------+-----------+------------------+-----------+\n",
            "|      date|unit_sales|item_nbr|       family|class|perishable|   city|      state|type|cluster|store_nbr|transactions|dcoilwtico|holiday_type|  locale|locale_name|       description|transferred|\n",
            "+----------+----------+--------+-------------+-----+----------+-------+-----------+----+-------+---------+------------+----------+------------+--------+-----------+------------------+-----------+\n",
            "|2013-01-01|         7|  103665| BREAD/BAKERY| 2712|         1|Salinas|Santa Elena|   D|      1|       25|         770|         0|     Holiday|National|    Ecuador|Primer dia del ano|      False|\n",
            "|2013-01-01|         1|  105574|    GROCERY I| 1045|         0|Salinas|Santa Elena|   D|      1|       25|         770|         0|     Holiday|National|    Ecuador|Primer dia del ano|      False|\n",
            "|2013-01-01|         2|  105575|    GROCERY I| 1045|         0|Salinas|Santa Elena|   D|      1|       25|         770|         0|     Holiday|National|    Ecuador|Primer dia del ano|      False|\n",
            "|2013-01-01|         1|  108079|    GROCERY I| 1030|         0|Salinas|Santa Elena|   D|      1|       25|         770|         0|     Holiday|National|    Ecuador|Primer dia del ano|      False|\n",
            "|2013-01-01|         1|  108701|         DELI| 2644|         1|Salinas|Santa Elena|   D|      1|       25|         770|         0|     Holiday|National|    Ecuador|Primer dia del ano|      False|\n",
            "|2013-01-01|         3|  108786|     CLEANING| 3044|         0|Salinas|Santa Elena|   D|      1|       25|         770|         0|     Holiday|National|    Ecuador|Primer dia del ano|      False|\n",
            "|2013-01-01|         1|  108797|    GROCERY I| 1004|         0|Salinas|Santa Elena|   D|      1|       25|         770|         0|     Holiday|National|    Ecuador|Primer dia del ano|      False|\n",
            "|2013-01-01|         1|  108952|     CLEANING| 3024|         0|Salinas|Santa Elena|   D|      1|       25|         770|         0|     Holiday|National|    Ecuador|Primer dia del ano|      False|\n",
            "|2013-01-01|        13|  111397|    GROCERY I| 1072|         0|Salinas|Santa Elena|   D|      1|       25|         770|         0|     Holiday|National|    Ecuador|Primer dia del ano|      False|\n",
            "|2013-01-01|         3|  114790|    GROCERY I| 1004|         0|Salinas|Santa Elena|   D|      1|       25|         770|         0|     Holiday|National|    Ecuador|Primer dia del ano|      False|\n",
            "|2013-01-01|         1|  114800|PERSONAL CARE| 4126|         0|Salinas|Santa Elena|   D|      1|       25|         770|         0|     Holiday|National|    Ecuador|Primer dia del ano|      False|\n",
            "|2013-01-01|         1|  115267|     CLEANING| 3034|         0|Salinas|Santa Elena|   D|      1|       25|         770|         0|     Holiday|National|    Ecuador|Primer dia del ano|      False|\n",
            "|2013-01-01|         1|  115611|    GROCERY I| 1014|         0|Salinas|Santa Elena|   D|      1|       25|         770|         0|     Holiday|National|    Ecuador|Primer dia del ano|      False|\n",
            "|2013-01-01|         1|  115693|    GROCERY I| 1040|         0|Salinas|Santa Elena|   D|      1|       25|         770|         0|     Holiday|National|    Ecuador|Primer dia del ano|      False|\n",
            "|2013-01-01|         5|  115720|    GROCERY I| 1084|         0|Salinas|Santa Elena|   D|      1|       25|         770|         0|     Holiday|National|    Ecuador|Primer dia del ano|      False|\n",
            "|2013-01-01|         1|  115850|    GROCERY I| 1004|         0|Salinas|Santa Elena|   D|      1|       25|         770|         0|     Holiday|National|    Ecuador|Primer dia del ano|      False|\n",
            "|2013-01-01|         6|  115891|    GROCERY I| 1016|         0|Salinas|Santa Elena|   D|      1|       25|         770|         0|     Holiday|National|    Ecuador|Primer dia del ano|      False|\n",
            "|2013-01-01|        10|  115892|    GROCERY I| 1016|         0|Salinas|Santa Elena|   D|      1|       25|         770|         0|     Holiday|National|    Ecuador|Primer dia del ano|      False|\n",
            "|2013-01-01|         5|  115894|    GROCERY I| 1016|         0|Salinas|Santa Elena|   D|      1|       25|         770|         0|     Holiday|National|    Ecuador|Primer dia del ano|      False|\n",
            "|2013-01-01|         1|  119024|     CLEANING| 3026|         0|Salinas|Santa Elena|   D|      1|       25|         770|         0|     Holiday|National|    Ecuador|Primer dia del ano|      False|\n",
            "+----------+----------+--------+-------------+-----+----------+-------+-----------+----+-------+---------+------------+----------+------------+--------+-----------+------------------+-----------+\n",
            "only showing top 20 rows\n",
            "\n"
          ]
        }
      ],
      "source": [
        "df5.show()"
      ]
    },
    {
      "cell_type": "code",
      "execution_count": null,
      "metadata": {
        "id": "T-Su8tJ1qEPv"
      },
      "outputs": [],
      "source": [
        "df4 = df4.drop('id')"
      ]
    },
    {
      "cell_type": "code",
      "execution_count": null,
      "metadata": {
        "id": "gekw5eivsmto"
      },
      "outputs": [],
      "source": [
        "#dropping id\n",
        "df5=df5.drop('id') \n"
      ]
    },
    {
      "cell_type": "code",
      "execution_count": null,
      "metadata": {
        "colab": {
          "base_uri": "https://localhost:8080/"
        },
        "id": "yDJ2_rO4smwm",
        "outputId": "3eba2866-da0d-42d7-abaf-3dfb2b3468c0"
      },
      "outputs": [
        {
          "name": "stdout",
          "output_type": "stream",
          "text": [
            "root\n",
            " |-- date: string (nullable = true)\n",
            " |-- unit_sales: string (nullable = true)\n",
            " |-- item_nbr: string (nullable = true)\n",
            " |-- family: string (nullable = true)\n",
            " |-- class: string (nullable = true)\n",
            " |-- perishable: string (nullable = true)\n",
            " |-- city: string (nullable = true)\n",
            " |-- state: string (nullable = true)\n",
            " |-- type: string (nullable = true)\n",
            " |-- cluster: string (nullable = true)\n",
            " |-- store_nbr: string (nullable = true)\n",
            " |-- transactions: string (nullable = true)\n",
            " |-- dcoilwtico: integer (nullable = true)\n",
            " |-- holiday_type: string (nullable = true)\n",
            " |-- locale: string (nullable = true)\n",
            " |-- locale_name: string (nullable = true)\n",
            " |-- description: string (nullable = true)\n",
            " |-- transferred: string (nullable = true)\n",
            "\n"
          ]
        }
      ],
      "source": [
        "df5.printSchema()"
      ]
    },
    {
      "cell_type": "code",
      "execution_count": null,
      "metadata": {
        "id": "fKH1b8Opsm2A"
      },
      "outputs": [],
      "source": [
        "from pyspark.sql.types import DateType,IntegerType\n",
        "df5 = df5.withColumn(\"transferred\",df5[\"transferred\"].cast(IntegerType()))"
      ]
    },
    {
      "cell_type": "code",
      "execution_count": null,
      "metadata": {
        "colab": {
          "base_uri": "https://localhost:8080/"
        },
        "id": "qI-nmuV-DPs8",
        "outputId": "c8a1a4c4-f08e-4cfc-c84d-025483861d4c"
      },
      "outputs": [
        {
          "name": "stdout",
          "output_type": "stream",
          "text": [
            "+----------+----------+--------+------------+-----+----------+-------+-----------+----+-------+---------+------------+----------+------------+--------+-----------+------------------+-----------+\n",
            "|      date|unit_sales|item_nbr|      family|class|perishable|   city|      state|type|cluster|store_nbr|transactions|dcoilwtico|holiday_type|  locale|locale_name|       description|transferred|\n",
            "+----------+----------+--------+------------+-----+----------+-------+-----------+----+-------+---------+------------+----------+------------+--------+-----------+------------------+-----------+\n",
            "|2013-01-01|         7|  103665|BREAD/BAKERY| 2712|         1|Salinas|Santa Elena|   D|      1|       25|         770|         0|     Holiday|National|    Ecuador|Primer dia del ano|       null|\n",
            "|2013-01-01|         1|  105574|   GROCERY I| 1045|         0|Salinas|Santa Elena|   D|      1|       25|         770|         0|     Holiday|National|    Ecuador|Primer dia del ano|       null|\n",
            "+----------+----------+--------+------------+-----+----------+-------+-----------+----+-------+---------+------------+----------+------------+--------+-----------+------------------+-----------+\n",
            "only showing top 2 rows\n",
            "\n"
          ]
        }
      ],
      "source": [
        "df5.show(2)"
      ]
    },
    {
      "cell_type": "code",
      "execution_count": null,
      "metadata": {
        "id": "DG5Az3FY66Kx"
      },
      "outputs": [],
      "source": [
        "df5 = df5.withColumn(\"date\", df5[\"date\"].cast(DateType()))"
      ]
    },
    {
      "cell_type": "code",
      "execution_count": null,
      "metadata": {
        "id": "WmFsCi7bQJKl"
      },
      "outputs": [],
      "source": [
        "df5 = df5.withColumn(\"unit_sales\", df5[\"unit_sales\"].cast(IntegerType()))"
      ]
    },
    {
      "cell_type": "code",
      "execution_count": null,
      "metadata": {
        "id": "JseXXo-4QQST"
      },
      "outputs": [],
      "source": [
        "df5 = df5.na.fill(value=0,subset=[\"unit_sales\"])"
      ]
    },
    {
      "cell_type": "code",
      "execution_count": null,
      "metadata": {
        "colab": {
          "base_uri": "https://localhost:8080/"
        },
        "id": "LbDwp2Sr8VqP",
        "outputId": "f1abe587-4c2b-432a-87b9-df74f7863b0c"
      },
      "outputs": [
        {
          "name": "stdout",
          "output_type": "stream",
          "text": [
            "root\n",
            " |-- date: date (nullable = true)\n",
            " |-- unit_sales: integer (nullable = true)\n",
            " |-- item_nbr: string (nullable = true)\n",
            " |-- family: string (nullable = true)\n",
            " |-- class: string (nullable = true)\n",
            " |-- perishable: string (nullable = true)\n",
            " |-- city: string (nullable = true)\n",
            " |-- state: string (nullable = true)\n",
            " |-- type: string (nullable = true)\n",
            " |-- cluster: string (nullable = true)\n",
            " |-- store_nbr: string (nullable = true)\n",
            " |-- transactions: string (nullable = true)\n",
            " |-- dcoilwtico: integer (nullable = true)\n",
            " |-- holiday_type: string (nullable = true)\n",
            " |-- locale: string (nullable = true)\n",
            " |-- locale_name: string (nullable = true)\n",
            " |-- description: string (nullable = true)\n",
            " |-- transferred: integer (nullable = true)\n",
            "\n"
          ]
        }
      ],
      "source": [
        "df5.printSchema()"
      ]
    },
    {
      "cell_type": "code",
      "execution_count": null,
      "metadata": {
        "id": "7FcvXFFKsm40"
      },
      "outputs": [],
      "source": [
        "from pyspark.ml.feature import StringIndexer, OneHotEncoder"
      ]
    },
    {
      "cell_type": "code",
      "execution_count": null,
      "metadata": {
        "colab": {
          "base_uri": "https://localhost:8080/"
        },
        "id": "hjXzzdVifxrT",
        "outputId": "1e14346c-f061-4ef4-9432-063850a9ad84"
      },
      "outputs": [
        {
          "name": "stdout",
          "output_type": "stream",
          "text": [
            "+----------+----------+--------+------------+-----+----------+-------+-----------+----+-------+---------+------------+----------+------------+--------+-----------+------------------+-----------+--------+------+-------+--------------+--------+-------------+\n",
            "|      date|unit_sales|item_nbr|      family|class|perishable|   city|      state|type|cluster|store_nbr|transactions|dcoilwtico|holiday_type|  locale|locale_name|       description|transferred|family_n|city_n|state_n|holiday_type_n|locale_n|locale_name_n|\n",
            "+----------+----------+--------+------------+-----+----------+-------+-----------+----+-------+---------+------------+----------+------------+--------+-----------+------------------+-----------+--------+------+-------+--------------+--------+-------------+\n",
            "|2013-01-01|         7|  103665|BREAD/BAKERY| 2712|         1|Salinas|Santa Elena|   D|      1|       25|         770|         0|     Holiday|National|    Ecuador|Primer dia del ano|       null|     5.0|  10.0|    9.0|           0.0|     0.0|          0.0|\n",
            "|2013-01-01|         1|  105574|   GROCERY I| 1045|         0|Salinas|Santa Elena|   D|      1|       25|         770|         0|     Holiday|National|    Ecuador|Primer dia del ano|       null|     0.0|  10.0|    9.0|           0.0|     0.0|          0.0|\n",
            "|2013-01-01|         2|  105575|   GROCERY I| 1045|         0|Salinas|Santa Elena|   D|      1|       25|         770|         0|     Holiday|National|    Ecuador|Primer dia del ano|       null|     0.0|  10.0|    9.0|           0.0|     0.0|          0.0|\n",
            "|2013-01-01|         1|  108079|   GROCERY I| 1030|         0|Salinas|Santa Elena|   D|      1|       25|         770|         0|     Holiday|National|    Ecuador|Primer dia del ano|       null|     0.0|  10.0|    9.0|           0.0|     0.0|          0.0|\n",
            "|2013-01-01|         1|  108701|        DELI| 2644|         1|Salinas|Santa Elena|   D|      1|       25|         770|         0|     Holiday|National|    Ecuador|Primer dia del ano|       null|     4.0|  10.0|    9.0|           0.0|     0.0|          0.0|\n",
            "+----------+----------+--------+------------+-----+----------+-------+-----------+----+-------+---------+------------+----------+------------+--------+-----------+------------------+-----------+--------+------+-------+--------------+--------+-------------+\n",
            "only showing top 5 rows\n",
            "\n"
          ]
        }
      ],
      "source": [
        "# final_df.show(5)"
      ]
    },
    {
      "cell_type": "code",
      "execution_count": null,
      "metadata": {
        "id": "FpG93ursq5Ag"
      },
      "outputs": [],
      "source": [
        "from pyspark.ml.feature import OneHotEncoder, StringIndexer, StandardScaler, VectorAssembler"
      ]
    },
    {
      "cell_type": "code",
      "execution_count": null,
      "metadata": {
        "id": "bO2bAXHMJNJ7"
      },
      "outputs": [],
      "source": [
        "from pyspark.ml.feature import OneHotEncoder"
      ]
    },
    {
      "cell_type": "code",
      "execution_count": null,
      "metadata": {
        "id": "HS2jyRJrJNMq"
      },
      "outputs": [],
      "source": [
        "# Spark Pipeline\n",
        "# cat_features = ['family', 'city', 'state', 'locale','locale_name','type']\n",
        "# num_features = ['date','item_nbr','item_nbr','class','perishable','store_nbr','transactions','dcoilwtico','transferred']\n",
        "\n",
        "cat_features = ['family', 'city', 'state','type']\n",
        "num_features = ['item_nbr','item_nbr','class','perishable','store_nbr','transactions','dcoilwtico']\n",
        "label = 'unit_sales'\n",
        "\n",
        "# Pipeline Stages List\n",
        "stages = []\n",
        "\n",
        "# Loop for StringIndexer and OHE for Categorical Variables\n",
        "for features in cat_features:\n",
        "    \n",
        "    # Index Categorical Features\n",
        "    string_indexer = StringIndexer(inputCol=features, outputCol=features + \"_index\")\n",
        "    string_indexer=string_indexer.setHandleInvalid(\"skip\")\n",
        "    \n",
        "    #One Hot Encode Categorical Features\n",
        "    encoder = OneHotEncoder(inputCols=[string_indexer.getOutputCol()],\n",
        "                                     outputCols=[features + \"_class_vec\"])\n",
        "    # Append Pipeline Stages\n",
        "    stages += [string_indexer, encoder]\n",
        "    \n",
        "# Index Label Feature\n",
        "label_str_index =  StringIndexer(inputCol=label, outputCol=\"label_index\")\n",
        "\n",
        "# Assemble or Concat the Categorical Features and Numeric Features\n",
        "assembler_inputs = [feature + \"_class_vec\" for feature in cat_features] + num_features\n",
        "\n",
        "assembler = VectorAssembler(inputCols=assembler_inputs, outputCol=\"features\") \n",
        "\n",
        "stages += [label_str_index, assembler]\n",
        "\n",
        "\n"
      ]
    },
    {
      "cell_type": "code",
      "execution_count": null,
      "metadata": {
        "colab": {
          "base_uri": "https://localhost:8080/"
        },
        "id": "q2pCQX3cJNP0",
        "outputId": "f8699c1e-6e90-4e73-ee2a-ba9369266a9e"
      },
      "outputs": [
        {
          "data": {
            "text/plain": [
              "[StringIndexer_d757df0926da,\n",
              " OneHotEncoder_cfbce86b705b,\n",
              " StringIndexer_1a8cfc00e3d6,\n",
              " OneHotEncoder_81e51b248857,\n",
              " StringIndexer_f23f7d8e1b18,\n",
              " OneHotEncoder_3fec4f7fecfd,\n",
              " StringIndexer_24e7fe4e8c36,\n",
              " OneHotEncoder_4b636bf66117,\n",
              " StringIndexer_da92cd37cd53,\n",
              " VectorAssembler_9832778ce6b5]"
            ]
          },
          "execution_count": 150,
          "metadata": {},
          "output_type": "execute_result"
        }
      ],
      "source": [
        "stages"
      ]
    },
    {
      "cell_type": "code",
      "execution_count": null,
      "metadata": {
        "id": "M7LqHPTGJNTN"
      },
      "outputs": [],
      "source": []
    },
    {
      "cell_type": "code",
      "execution_count": null,
      "metadata": {
        "id": "MetyKrlzIRvu"
      },
      "outputs": [],
      "source": [
        "from pyspark.ml import Pipeline\n",
        "\n",
        "# Set Pipeline\n",
        "pipeline = Pipeline(stages=stages)\n",
        "\n",
        "# Fit Pipeline to Data\n",
        "pipeline_model = pipeline.fit(df5)\n",
        "\n",
        "# Transform Data using Fitted Pipeline\n",
        "df_transform = pipeline_model.transform(df5)\n"
      ]
    },
    {
      "cell_type": "code",
      "execution_count": null,
      "metadata": {
        "colab": {
          "base_uri": "https://localhost:8080/",
          "height": 646
        },
        "id": "vUZ6ZH3iLpUy",
        "outputId": "c64899a8-273f-440a-ab2f-abcd62f06f91"
      },
      "outputs": [
        {
          "data": {
            "text/html": [
              "\n",
              "  <div id=\"df-7acad21a-c86d-4684-b281-71d6c38c417c\">\n",
              "    <div class=\"colab-df-container\">\n",
              "      <div>\n",
              "<style scoped>\n",
              "    .dataframe tbody tr th:only-of-type {\n",
              "        vertical-align: middle;\n",
              "    }\n",
              "\n",
              "    .dataframe tbody tr th {\n",
              "        vertical-align: top;\n",
              "    }\n",
              "\n",
              "    .dataframe thead th {\n",
              "        text-align: right;\n",
              "    }\n",
              "</style>\n",
              "<table border=\"1\" class=\"dataframe\">\n",
              "  <thead>\n",
              "    <tr style=\"text-align: right;\">\n",
              "      <th></th>\n",
              "      <th>date</th>\n",
              "      <th>id</th>\n",
              "      <th>unit_sales</th>\n",
              "      <th>item_nbr</th>\n",
              "      <th>family</th>\n",
              "      <th>class</th>\n",
              "      <th>perishable</th>\n",
              "      <th>city</th>\n",
              "      <th>state</th>\n",
              "      <th>type</th>\n",
              "      <th>...</th>\n",
              "      <th>family_index</th>\n",
              "      <th>family_class_vec</th>\n",
              "      <th>city_index</th>\n",
              "      <th>city_class_vec</th>\n",
              "      <th>state_index</th>\n",
              "      <th>state_class_vec</th>\n",
              "      <th>type_index</th>\n",
              "      <th>type_class_vec</th>\n",
              "      <th>label_index</th>\n",
              "      <th>features</th>\n",
              "    </tr>\n",
              "  </thead>\n",
              "  <tbody>\n",
              "    <tr>\n",
              "      <th>0</th>\n",
              "      <td>2013-01-01</td>\n",
              "      <td>0</td>\n",
              "      <td>7</td>\n",
              "      <td>103665</td>\n",
              "      <td>BREAD/BAKERY</td>\n",
              "      <td>2712</td>\n",
              "      <td>1</td>\n",
              "      <td>Salinas</td>\n",
              "      <td>Santa Elena</td>\n",
              "      <td>D</td>\n",
              "      <td>...</td>\n",
              "      <td>5.0</td>\n",
              "      <td>(0.0, 0.0, 0.0, 0.0, 0.0, 1.0, 0.0, 0.0, 0.0, ...</td>\n",
              "      <td>10.0</td>\n",
              "      <td>(0.0, 0.0, 0.0, 0.0, 0.0, 0.0, 0.0, 0.0, 0.0, ...</td>\n",
              "      <td>9.0</td>\n",
              "      <td>(0.0, 0.0, 0.0, 0.0, 0.0, 0.0, 0.0, 0.0, 0.0, ...</td>\n",
              "      <td>0.0</td>\n",
              "      <td>(1.0, 0.0, 0.0, 0.0)</td>\n",
              "      <td>6.0</td>\n",
              "      <td>(0.0, 0.0, 0.0, 0.0, 0.0, 1.0, 0.0, 0.0, 0.0, ...</td>\n",
              "    </tr>\n",
              "    <tr>\n",
              "      <th>1</th>\n",
              "      <td>2013-01-01</td>\n",
              "      <td>1</td>\n",
              "      <td>1</td>\n",
              "      <td>105574</td>\n",
              "      <td>GROCERY I</td>\n",
              "      <td>1045</td>\n",
              "      <td>0</td>\n",
              "      <td>Salinas</td>\n",
              "      <td>Santa Elena</td>\n",
              "      <td>D</td>\n",
              "      <td>...</td>\n",
              "      <td>0.0</td>\n",
              "      <td>(1.0, 0.0, 0.0, 0.0, 0.0, 0.0, 0.0, 0.0, 0.0, ...</td>\n",
              "      <td>10.0</td>\n",
              "      <td>(0.0, 0.0, 0.0, 0.0, 0.0, 0.0, 0.0, 0.0, 0.0, ...</td>\n",
              "      <td>9.0</td>\n",
              "      <td>(0.0, 0.0, 0.0, 0.0, 0.0, 0.0, 0.0, 0.0, 0.0, ...</td>\n",
              "      <td>0.0</td>\n",
              "      <td>(1.0, 0.0, 0.0, 0.0)</td>\n",
              "      <td>0.0</td>\n",
              "      <td>(1.0, 0.0, 0.0, 0.0, 0.0, 0.0, 0.0, 0.0, 0.0, ...</td>\n",
              "    </tr>\n",
              "    <tr>\n",
              "      <th>2</th>\n",
              "      <td>2013-01-01</td>\n",
              "      <td>2</td>\n",
              "      <td>2</td>\n",
              "      <td>105575</td>\n",
              "      <td>GROCERY I</td>\n",
              "      <td>1045</td>\n",
              "      <td>0</td>\n",
              "      <td>Salinas</td>\n",
              "      <td>Santa Elena</td>\n",
              "      <td>D</td>\n",
              "      <td>...</td>\n",
              "      <td>0.0</td>\n",
              "      <td>(1.0, 0.0, 0.0, 0.0, 0.0, 0.0, 0.0, 0.0, 0.0, ...</td>\n",
              "      <td>10.0</td>\n",
              "      <td>(0.0, 0.0, 0.0, 0.0, 0.0, 0.0, 0.0, 0.0, 0.0, ...</td>\n",
              "      <td>9.0</td>\n",
              "      <td>(0.0, 0.0, 0.0, 0.0, 0.0, 0.0, 0.0, 0.0, 0.0, ...</td>\n",
              "      <td>0.0</td>\n",
              "      <td>(1.0, 0.0, 0.0, 0.0)</td>\n",
              "      <td>1.0</td>\n",
              "      <td>(1.0, 0.0, 0.0, 0.0, 0.0, 0.0, 0.0, 0.0, 0.0, ...</td>\n",
              "    </tr>\n",
              "    <tr>\n",
              "      <th>3</th>\n",
              "      <td>2013-01-01</td>\n",
              "      <td>3</td>\n",
              "      <td>1</td>\n",
              "      <td>108079</td>\n",
              "      <td>GROCERY I</td>\n",
              "      <td>1030</td>\n",
              "      <td>0</td>\n",
              "      <td>Salinas</td>\n",
              "      <td>Santa Elena</td>\n",
              "      <td>D</td>\n",
              "      <td>...</td>\n",
              "      <td>0.0</td>\n",
              "      <td>(1.0, 0.0, 0.0, 0.0, 0.0, 0.0, 0.0, 0.0, 0.0, ...</td>\n",
              "      <td>10.0</td>\n",
              "      <td>(0.0, 0.0, 0.0, 0.0, 0.0, 0.0, 0.0, 0.0, 0.0, ...</td>\n",
              "      <td>9.0</td>\n",
              "      <td>(0.0, 0.0, 0.0, 0.0, 0.0, 0.0, 0.0, 0.0, 0.0, ...</td>\n",
              "      <td>0.0</td>\n",
              "      <td>(1.0, 0.0, 0.0, 0.0)</td>\n",
              "      <td>0.0</td>\n",
              "      <td>(1.0, 0.0, 0.0, 0.0, 0.0, 0.0, 0.0, 0.0, 0.0, ...</td>\n",
              "    </tr>\n",
              "    <tr>\n",
              "      <th>4</th>\n",
              "      <td>2013-01-01</td>\n",
              "      <td>4</td>\n",
              "      <td>1</td>\n",
              "      <td>108701</td>\n",
              "      <td>DELI</td>\n",
              "      <td>2644</td>\n",
              "      <td>1</td>\n",
              "      <td>Salinas</td>\n",
              "      <td>Santa Elena</td>\n",
              "      <td>D</td>\n",
              "      <td>...</td>\n",
              "      <td>4.0</td>\n",
              "      <td>(0.0, 0.0, 0.0, 0.0, 1.0, 0.0, 0.0, 0.0, 0.0, ...</td>\n",
              "      <td>10.0</td>\n",
              "      <td>(0.0, 0.0, 0.0, 0.0, 0.0, 0.0, 0.0, 0.0, 0.0, ...</td>\n",
              "      <td>9.0</td>\n",
              "      <td>(0.0, 0.0, 0.0, 0.0, 0.0, 0.0, 0.0, 0.0, 0.0, ...</td>\n",
              "      <td>0.0</td>\n",
              "      <td>(1.0, 0.0, 0.0, 0.0)</td>\n",
              "      <td>0.0</td>\n",
              "      <td>(0.0, 0.0, 0.0, 0.0, 1.0, 0.0, 0.0, 0.0, 0.0, ...</td>\n",
              "    </tr>\n",
              "  </tbody>\n",
              "</table>\n",
              "<p>5 rows × 29 columns</p>\n",
              "</div>\n",
              "      <button class=\"colab-df-convert\" onclick=\"convertToInteractive('df-7acad21a-c86d-4684-b281-71d6c38c417c')\"\n",
              "              title=\"Convert this dataframe to an interactive table.\"\n",
              "              style=\"display:none;\">\n",
              "        \n",
              "  <svg xmlns=\"http://www.w3.org/2000/svg\" height=\"24px\"viewBox=\"0 0 24 24\"\n",
              "       width=\"24px\">\n",
              "    <path d=\"M0 0h24v24H0V0z\" fill=\"none\"/>\n",
              "    <path d=\"M18.56 5.44l.94 2.06.94-2.06 2.06-.94-2.06-.94-.94-2.06-.94 2.06-2.06.94zm-11 1L8.5 8.5l.94-2.06 2.06-.94-2.06-.94L8.5 2.5l-.94 2.06-2.06.94zm10 10l.94 2.06.94-2.06 2.06-.94-2.06-.94-.94-2.06-.94 2.06-2.06.94z\"/><path d=\"M17.41 7.96l-1.37-1.37c-.4-.4-.92-.59-1.43-.59-.52 0-1.04.2-1.43.59L10.3 9.45l-7.72 7.72c-.78.78-.78 2.05 0 2.83L4 21.41c.39.39.9.59 1.41.59.51 0 1.02-.2 1.41-.59l7.78-7.78 2.81-2.81c.8-.78.8-2.07 0-2.86zM5.41 20L4 18.59l7.72-7.72 1.47 1.35L5.41 20z\"/>\n",
              "  </svg>\n",
              "      </button>\n",
              "      \n",
              "  <style>\n",
              "    .colab-df-container {\n",
              "      display:flex;\n",
              "      flex-wrap:wrap;\n",
              "      gap: 12px;\n",
              "    }\n",
              "\n",
              "    .colab-df-convert {\n",
              "      background-color: #E8F0FE;\n",
              "      border: none;\n",
              "      border-radius: 50%;\n",
              "      cursor: pointer;\n",
              "      display: none;\n",
              "      fill: #1967D2;\n",
              "      height: 32px;\n",
              "      padding: 0 0 0 0;\n",
              "      width: 32px;\n",
              "    }\n",
              "\n",
              "    .colab-df-convert:hover {\n",
              "      background-color: #E2EBFA;\n",
              "      box-shadow: 0px 1px 2px rgba(60, 64, 67, 0.3), 0px 1px 3px 1px rgba(60, 64, 67, 0.15);\n",
              "      fill: #174EA6;\n",
              "    }\n",
              "\n",
              "    [theme=dark] .colab-df-convert {\n",
              "      background-color: #3B4455;\n",
              "      fill: #D2E3FC;\n",
              "    }\n",
              "\n",
              "    [theme=dark] .colab-df-convert:hover {\n",
              "      background-color: #434B5C;\n",
              "      box-shadow: 0px 1px 3px 1px rgba(0, 0, 0, 0.15);\n",
              "      filter: drop-shadow(0px 1px 2px rgba(0, 0, 0, 0.3));\n",
              "      fill: #FFFFFF;\n",
              "    }\n",
              "  </style>\n",
              "\n",
              "      <script>\n",
              "        const buttonEl =\n",
              "          document.querySelector('#df-7acad21a-c86d-4684-b281-71d6c38c417c button.colab-df-convert');\n",
              "        buttonEl.style.display =\n",
              "          google.colab.kernel.accessAllowed ? 'block' : 'none';\n",
              "\n",
              "        async function convertToInteractive(key) {\n",
              "          const element = document.querySelector('#df-7acad21a-c86d-4684-b281-71d6c38c417c');\n",
              "          const dataTable =\n",
              "            await google.colab.kernel.invokeFunction('convertToInteractive',\n",
              "                                                     [key], {});\n",
              "          if (!dataTable) return;\n",
              "\n",
              "          const docLinkHtml = 'Like what you see? Visit the ' +\n",
              "            '<a target=\"_blank\" href=https://colab.research.google.com/notebooks/data_table.ipynb>data table notebook</a>'\n",
              "            + ' to learn more about interactive tables.';\n",
              "          element.innerHTML = '';\n",
              "          dataTable['output_type'] = 'display_data';\n",
              "          await google.colab.output.renderOutput(dataTable, element);\n",
              "          const docLink = document.createElement('div');\n",
              "          docLink.innerHTML = docLinkHtml;\n",
              "          element.appendChild(docLink);\n",
              "        }\n",
              "      </script>\n",
              "    </div>\n",
              "  </div>\n",
              "  "
            ],
            "text/plain": [
              "         date id unit_sales item_nbr        family class perishable     city  \\\n",
              "0  2013-01-01  0          7   103665  BREAD/BAKERY  2712          1  Salinas   \n",
              "1  2013-01-01  1          1   105574     GROCERY I  1045          0  Salinas   \n",
              "2  2013-01-01  2          2   105575     GROCERY I  1045          0  Salinas   \n",
              "3  2013-01-01  3          1   108079     GROCERY I  1030          0  Salinas   \n",
              "4  2013-01-01  4          1   108701          DELI  2644          1  Salinas   \n",
              "\n",
              "         state type  ... family_index  \\\n",
              "0  Santa Elena    D  ...          5.0   \n",
              "1  Santa Elena    D  ...          0.0   \n",
              "2  Santa Elena    D  ...          0.0   \n",
              "3  Santa Elena    D  ...          0.0   \n",
              "4  Santa Elena    D  ...          4.0   \n",
              "\n",
              "                                    family_class_vec city_index  \\\n",
              "0  (0.0, 0.0, 0.0, 0.0, 0.0, 1.0, 0.0, 0.0, 0.0, ...       10.0   \n",
              "1  (1.0, 0.0, 0.0, 0.0, 0.0, 0.0, 0.0, 0.0, 0.0, ...       10.0   \n",
              "2  (1.0, 0.0, 0.0, 0.0, 0.0, 0.0, 0.0, 0.0, 0.0, ...       10.0   \n",
              "3  (1.0, 0.0, 0.0, 0.0, 0.0, 0.0, 0.0, 0.0, 0.0, ...       10.0   \n",
              "4  (0.0, 0.0, 0.0, 0.0, 1.0, 0.0, 0.0, 0.0, 0.0, ...       10.0   \n",
              "\n",
              "                                      city_class_vec state_index  \\\n",
              "0  (0.0, 0.0, 0.0, 0.0, 0.0, 0.0, 0.0, 0.0, 0.0, ...         9.0   \n",
              "1  (0.0, 0.0, 0.0, 0.0, 0.0, 0.0, 0.0, 0.0, 0.0, ...         9.0   \n",
              "2  (0.0, 0.0, 0.0, 0.0, 0.0, 0.0, 0.0, 0.0, 0.0, ...         9.0   \n",
              "3  (0.0, 0.0, 0.0, 0.0, 0.0, 0.0, 0.0, 0.0, 0.0, ...         9.0   \n",
              "4  (0.0, 0.0, 0.0, 0.0, 0.0, 0.0, 0.0, 0.0, 0.0, ...         9.0   \n",
              "\n",
              "                                     state_class_vec type_index  \\\n",
              "0  (0.0, 0.0, 0.0, 0.0, 0.0, 0.0, 0.0, 0.0, 0.0, ...        0.0   \n",
              "1  (0.0, 0.0, 0.0, 0.0, 0.0, 0.0, 0.0, 0.0, 0.0, ...        0.0   \n",
              "2  (0.0, 0.0, 0.0, 0.0, 0.0, 0.0, 0.0, 0.0, 0.0, ...        0.0   \n",
              "3  (0.0, 0.0, 0.0, 0.0, 0.0, 0.0, 0.0, 0.0, 0.0, ...        0.0   \n",
              "4  (0.0, 0.0, 0.0, 0.0, 0.0, 0.0, 0.0, 0.0, 0.0, ...        0.0   \n",
              "\n",
              "         type_class_vec label_index  \\\n",
              "0  (1.0, 0.0, 0.0, 0.0)         6.0   \n",
              "1  (1.0, 0.0, 0.0, 0.0)         0.0   \n",
              "2  (1.0, 0.0, 0.0, 0.0)         1.0   \n",
              "3  (1.0, 0.0, 0.0, 0.0)         0.0   \n",
              "4  (1.0, 0.0, 0.0, 0.0)         0.0   \n",
              "\n",
              "                                            features  \n",
              "0  (0.0, 0.0, 0.0, 0.0, 0.0, 1.0, 0.0, 0.0, 0.0, ...  \n",
              "1  (1.0, 0.0, 0.0, 0.0, 0.0, 0.0, 0.0, 0.0, 0.0, ...  \n",
              "2  (1.0, 0.0, 0.0, 0.0, 0.0, 0.0, 0.0, 0.0, 0.0, ...  \n",
              "3  (1.0, 0.0, 0.0, 0.0, 0.0, 0.0, 0.0, 0.0, 0.0, ...  \n",
              "4  (0.0, 0.0, 0.0, 0.0, 1.0, 0.0, 0.0, 0.0, 0.0, ...  \n",
              "\n",
              "[5 rows x 29 columns]"
            ]
          },
          "execution_count": 38,
          "metadata": {},
          "output_type": "execute_result"
        }
      ],
      "source": [
        "df_transform.limit(5).toPandas()"
      ]
    },
    {
      "cell_type": "markdown",
      "metadata": {
        "id": "Zq3rIuGVaXMr"
      },
      "source": [
        "Linear Regression"
      ]
    },
    {
      "cell_type": "code",
      "execution_count": null,
      "metadata": {
        "id": "YV5tMpEUaWLj"
      },
      "outputs": [],
      "source": [
        "from pyspark.ml.regression import LinearRegression\n",
        "lr = LinearRegression(featuresCol = 'features', labelCol='label_index', maxIter=10, regParam=0.3, elasticNetParam=0.8)\n",
        "lr_model = lr.fit(train_data)"
      ]
    },
    {
      "cell_type": "code",
      "execution_count": null,
      "metadata": {
        "colab": {
          "base_uri": "https://localhost:8080/"
        },
        "id": "8LAzpibIaWOi",
        "outputId": "bd1da9c6-821f-4234-9b75-9faf7ee5f4dd"
      },
      "outputs": [
        {
          "name": "stdout",
          "output_type": "stream",
          "text": [
            "RMSE: 15.448984\n",
            "r2: 0.100596\n"
          ]
        }
      ],
      "source": [
        "trainingSummary = lr_model.summary\n",
        "print(\"RMSE: %f\" % trainingSummary.rootMeanSquaredError)\n",
        "print(\"r2: %f\" % trainingSummary.r2)"
      ]
    },
    {
      "cell_type": "code",
      "execution_count": null,
      "metadata": {
        "colab": {
          "base_uri": "https://localhost:8080/"
        },
        "id": "fpC4PPC-aWSJ",
        "outputId": "e8578621-d47b-41e4-b340-237295d84d3c"
      },
      "outputs": [
        {
          "name": "stdout",
          "output_type": "stream",
          "text": [
            "+-----------------+-----------+--------------------+\n",
            "|       prediction|label_index|            features|\n",
            "+-----------------+-----------+--------------------+\n",
            "|8.723401309919344|        0.0|(58,[0,20,38,52,5...|\n",
            "|8.723401309919344|        0.0|(58,[0,20,38,52,5...|\n",
            "|8.723401309919344|        0.0|(58,[0,20,38,52,5...|\n",
            "|8.723401309919344|        0.0|(58,[0,20,38,52,5...|\n",
            "|8.723401309919344|        0.0|(58,[0,20,38,52,5...|\n",
            "+-----------------+-----------+--------------------+\n",
            "only showing top 5 rows\n",
            "\n",
            "R Squared (R2) on test data = 0.104402\n"
          ]
        }
      ],
      "source": [
        "lr_predictions = lr_model.transform(test_data)\n",
        "lr_predictions.select(\"prediction\",\"label_index\",\"features\").show(5)\n",
        "from pyspark.ml.evaluation import RegressionEvaluator\n",
        "lr_evaluator = RegressionEvaluator(predictionCol=\"prediction\", \\\n",
        "                 labelCol=\"label_index\",metricName=\"r2\")\n",
        "print(\"R Squared (R2) on test data = %g\" % lr_evaluator.evaluate(lr_predictions))"
      ]
    },
    {
      "cell_type": "code",
      "execution_count": null,
      "metadata": {
        "id": "YtopSFb6aWrk"
      },
      "outputs": [],
      "source": []
    },
    {
      "cell_type": "markdown",
      "metadata": {
        "id": "VS-mk3yi5gwc"
      },
      "source": [
        "Time Series Forecasting - Analysis + Facebook Prophet Model\n"
      ]
    },
    {
      "cell_type": "code",
      "execution_count": null,
      "metadata": {
        "id": "0AOkBP1pnR0w"
      },
      "outputs": [],
      "source": [
        "from pyspark.sql.types import DateType,TimestampType\n",
        "df4 = df4.withColumn(\"date\", df4[\"date\"].cast(TimestampType()))\n",
        "df4 = df4.withColumn(\"unit_sales\", func.round(df4[\"unit_sales\"]).cast(\"integer\"))"
      ]
    },
    {
      "cell_type": "code",
      "execution_count": null,
      "metadata": {
        "id": "O_hCTMPF5Por"
      },
      "outputs": [],
      "source": [
        "df4 = df4.withColumn(\"item_nbr\", func.round(df4[\"item_nbr\"]).cast(\"integer\"))\n",
        "df4 = df4.withColumn(\"store_nbr\", func.round(df4[\"store_nbr\"]).cast(\"integer\"))\n",
        "df4 = df4.withColumn(\"transactions\", func.round(df4[\"transactions\"]).cast(\"integer\"))\n",
        "df4 = df4.withColumn(\"cluster\", func.round(df4[\"cluster\"]).cast(\"integer\"))\n",
        "df4 = df4.withColumn(\"perishable\", func.round(df4[\"perishable\"]).cast(\"integer\"))\n",
        "df4 = df4.withColumn(\"class\", func.round(df4[\"class\"]).cast(\"integer\"))"
      ]
    },
    {
      "cell_type": "code",
      "execution_count": null,
      "metadata": {
        "colab": {
          "base_uri": "https://localhost:8080/"
        },
        "id": "S65EKdIinRxm",
        "outputId": "d52eb26f-e80d-4621-b7e0-0edd20005b0b"
      },
      "outputs": [
        {
          "name": "stdout",
          "output_type": "stream",
          "text": [
            "root\n",
            " |-- date: timestamp (nullable = true)\n",
            " |-- id: string (nullable = true)\n",
            " |-- unit_sales: integer (nullable = true)\n",
            " |-- item_nbr: integer (nullable = true)\n",
            " |-- family: string (nullable = true)\n",
            " |-- class: integer (nullable = true)\n",
            " |-- perishable: integer (nullable = true)\n",
            " |-- city: string (nullable = true)\n",
            " |-- state: string (nullable = true)\n",
            " |-- type: string (nullable = true)\n",
            " |-- cluster: integer (nullable = true)\n",
            " |-- store_nbr: integer (nullable = true)\n",
            " |-- transactions: integer (nullable = true)\n",
            " |-- dcoilwtico: integer (nullable = true)\n",
            "\n"
          ]
        }
      ],
      "source": [
        "df4.printSchema()"
      ]
    },
    {
      "cell_type": "code",
      "execution_count": null,
      "metadata": {
        "id": "6AyGOnUt3q43"
      },
      "outputs": [],
      "source": [
        "from pyspark.ml.feature import StringIndexer, OneHotEncoder\n",
        "indexer = StringIndexer(inputCol='family', outputCol='family_t').fit(df4)\n",
        "indexed_df = indexer.transform(df4)"
      ]
    },
    {
      "cell_type": "code",
      "execution_count": null,
      "metadata": {
        "id": "fWclJTORGve1"
      },
      "outputs": [],
      "source": [
        "indexer = StringIndexer(inputCol='city', outputCol='city_t').fit(indexed_df)\n",
        "indexed_df1 = indexer.transform(indexed_df)"
      ]
    },
    {
      "cell_type": "code",
      "execution_count": null,
      "metadata": {
        "id": "YyJDp7ofG0pl"
      },
      "outputs": [],
      "source": [
        "indexer = StringIndexer(inputCol='state', outputCol='state_t').fit(indexed_df1)\n",
        "final_df = indexer.transform(indexed_df1)"
      ]
    },
    {
      "cell_type": "code",
      "execution_count": null,
      "metadata": {
        "id": "NGDIhfyF0paN"
      },
      "outputs": [],
      "source": [
        "indexer = StringIndexer(inputCol='type', outputCol='type_t').fit(final_df)\n",
        "final_df = indexer.transform(final_df)"
      ]
    },
    {
      "cell_type": "code",
      "execution_count": null,
      "metadata": {
        "colab": {
          "base_uri": "https://localhost:8080/"
        },
        "id": "ytmzxXphG6E-",
        "outputId": "6915a204-0cfc-46aa-f66e-568bb5e5faa2"
      },
      "outputs": [
        {
          "name": "stdout",
          "output_type": "stream",
          "text": [
            "+-------------------+---+----------+--------+-------------+-----+----------+-------+-----------+----+-------+---------+------------+----------+--------+------+-------+------+\n",
            "|               date| id|unit_sales|item_nbr|       family|class|perishable|   city|      state|type|cluster|store_nbr|transactions|dcoilwtico|family_t|city_t|state_t|type_t|\n",
            "+-------------------+---+----------+--------+-------------+-----+----------+-------+-----------+----+-------+---------+------------+----------+--------+------+-------+------+\n",
            "|2013-01-01 00:00:00|  0|         7|  103665| BREAD/BAKERY| 2712|         1|Salinas|Santa Elena|   D|      1|       25|         770|         0|     5.0|  10.0|    9.0|   0.0|\n",
            "|2013-01-01 00:00:00|  1|         1|  105574|    GROCERY I| 1045|         0|Salinas|Santa Elena|   D|      1|       25|         770|         0|     0.0|  10.0|    9.0|   0.0|\n",
            "|2013-01-01 00:00:00|  2|         2|  105575|    GROCERY I| 1045|         0|Salinas|Santa Elena|   D|      1|       25|         770|         0|     0.0|  10.0|    9.0|   0.0|\n",
            "|2013-01-01 00:00:00|  3|         1|  108079|    GROCERY I| 1030|         0|Salinas|Santa Elena|   D|      1|       25|         770|         0|     0.0|  10.0|    9.0|   0.0|\n",
            "|2013-01-01 00:00:00|  4|         1|  108701|         DELI| 2644|         1|Salinas|Santa Elena|   D|      1|       25|         770|         0|     4.0|  10.0|    9.0|   0.0|\n",
            "|2013-01-01 00:00:00|  5|         3|  108786|     CLEANING| 3044|         0|Salinas|Santa Elena|   D|      1|       25|         770|         0|     1.0|  10.0|    9.0|   0.0|\n",
            "|2013-01-01 00:00:00|  6|         1|  108797|    GROCERY I| 1004|         0|Salinas|Santa Elena|   D|      1|       25|         770|         0|     0.0|  10.0|    9.0|   0.0|\n",
            "|2013-01-01 00:00:00|  7|         1|  108952|     CLEANING| 3024|         0|Salinas|Santa Elena|   D|      1|       25|         770|         0|     1.0|  10.0|    9.0|   0.0|\n",
            "|2013-01-01 00:00:00|  8|        13|  111397|    GROCERY I| 1072|         0|Salinas|Santa Elena|   D|      1|       25|         770|         0|     0.0|  10.0|    9.0|   0.0|\n",
            "|2013-01-01 00:00:00|  9|         3|  114790|    GROCERY I| 1004|         0|Salinas|Santa Elena|   D|      1|       25|         770|         0|     0.0|  10.0|    9.0|   0.0|\n",
            "|2013-01-01 00:00:00| 10|         1|  114800|PERSONAL CARE| 4126|         0|Salinas|Santa Elena|   D|      1|       25|         770|         0|     6.0|  10.0|    9.0|   0.0|\n",
            "|2013-01-01 00:00:00| 11|         1|  115267|     CLEANING| 3034|         0|Salinas|Santa Elena|   D|      1|       25|         770|         0|     1.0|  10.0|    9.0|   0.0|\n",
            "|2013-01-01 00:00:00| 12|         1|  115611|    GROCERY I| 1014|         0|Salinas|Santa Elena|   D|      1|       25|         770|         0|     0.0|  10.0|    9.0|   0.0|\n",
            "|2013-01-01 00:00:00| 13|         1|  115693|    GROCERY I| 1040|         0|Salinas|Santa Elena|   D|      1|       25|         770|         0|     0.0|  10.0|    9.0|   0.0|\n",
            "|2013-01-01 00:00:00| 14|         5|  115720|    GROCERY I| 1084|         0|Salinas|Santa Elena|   D|      1|       25|         770|         0|     0.0|  10.0|    9.0|   0.0|\n",
            "|2013-01-01 00:00:00| 15|         1|  115850|    GROCERY I| 1004|         0|Salinas|Santa Elena|   D|      1|       25|         770|         0|     0.0|  10.0|    9.0|   0.0|\n",
            "|2013-01-01 00:00:00| 16|         6|  115891|    GROCERY I| 1016|         0|Salinas|Santa Elena|   D|      1|       25|         770|         0|     0.0|  10.0|    9.0|   0.0|\n",
            "|2013-01-01 00:00:00| 17|        10|  115892|    GROCERY I| 1016|         0|Salinas|Santa Elena|   D|      1|       25|         770|         0|     0.0|  10.0|    9.0|   0.0|\n",
            "|2013-01-01 00:00:00| 18|         5|  115894|    GROCERY I| 1016|         0|Salinas|Santa Elena|   D|      1|       25|         770|         0|     0.0|  10.0|    9.0|   0.0|\n",
            "|2013-01-01 00:00:00| 19|         1|  119024|     CLEANING| 3026|         0|Salinas|Santa Elena|   D|      1|       25|         770|         0|     1.0|  10.0|    9.0|   0.0|\n",
            "+-------------------+---+----------+--------+-------------+-----+----------+-------+-----------+----+-------+---------+------------+----------+--------+------+-------+------+\n",
            "only showing top 20 rows\n",
            "\n"
          ]
        }
      ],
      "source": [
        "final_df.show()"
      ]
    },
    {
      "cell_type": "code",
      "execution_count": null,
      "metadata": {
        "colab": {
          "base_uri": "https://localhost:8080/"
        },
        "id": "DXzHnl4WJQuR",
        "outputId": "c198e4ed-26a9-4084-8347-9541d7a6be22"
      },
      "outputs": [
        {
          "name": "stdout",
          "output_type": "stream",
          "text": [
            "root\n",
            " |-- date: timestamp (nullable = true)\n",
            " |-- id: string (nullable = true)\n",
            " |-- unit_sales: integer (nullable = true)\n",
            " |-- item_nbr: integer (nullable = true)\n",
            " |-- family: string (nullable = true)\n",
            " |-- class: integer (nullable = true)\n",
            " |-- perishable: integer (nullable = true)\n",
            " |-- city: string (nullable = true)\n",
            " |-- state: string (nullable = true)\n",
            " |-- type: string (nullable = true)\n",
            " |-- cluster: integer (nullable = true)\n",
            " |-- store_nbr: integer (nullable = true)\n",
            " |-- transactions: integer (nullable = true)\n",
            " |-- dcoilwtico: integer (nullable = true)\n",
            " |-- family_t: double (nullable = false)\n",
            " |-- city_t: double (nullable = false)\n",
            " |-- state_t: double (nullable = false)\n",
            " |-- type_t: double (nullable = false)\n",
            "\n"
          ]
        }
      ],
      "source": [
        "final_df.printSchema()"
      ]
    },
    {
      "cell_type": "code",
      "execution_count": null,
      "metadata": {
        "id": "72LDT9ouJjT2"
      },
      "outputs": [],
      "source": [
        "cols = ['id', 'family', 'city', 'state']\n",
        "final_df =final_df.drop('id', 'family', 'city', 'state', 'type')"
      ]
    },
    {
      "cell_type": "code",
      "execution_count": null,
      "metadata": {
        "id": "tmC77vqyWE4v"
      },
      "outputs": [],
      "source": [
        "final_df1 = final_df.withColumn(\"date\", final_df[\"date\"].cast(\"string\"))"
      ]
    },
    {
      "cell_type": "code",
      "execution_count": null,
      "metadata": {
        "id": "cCh_6ht8VA5F"
      },
      "outputs": [],
      "source": [
        "assembler=VectorAssembler().setInputCols(['item_nbr','class','family_t','type_t', 'store_nbr','perishable', 'state_t', 'city_t', 'dcoilwtico', 'transactions']).setOutputCol('features')\n"
      ]
    },
    {
      "cell_type": "code",
      "execution_count": null,
      "metadata": {
        "id": "Un62qs9TVuU3"
      },
      "outputs": [],
      "source": [
        "output_12 = assembler.transform(final_df1)"
      ]
    },
    {
      "cell_type": "code",
      "execution_count": null,
      "metadata": {
        "colab": {
          "base_uri": "https://localhost:8080/"
        },
        "id": "8acPkAaaWbPr",
        "outputId": "6c7af2b7-4fe5-4a44-8a42-8c7a4fb4fd89"
      },
      "outputs": [
        {
          "name": "stdout",
          "output_type": "stream",
          "text": [
            "+----+----------+--------+-----+----------+-------+---------+------------+----------+--------+------+-------+------+--------------------+\n",
            "|date|unit_sales|item_nbr|class|perishable|cluster|store_nbr|transactions|dcoilwtico|family_t|city_t|state_t|type_t|            features|\n",
            "+----+----------+--------+-----+----------+-------+---------+------------+----------+--------+------+-------+------+--------------------+\n",
            "|null|         7|  103665| 2712|         1|      1|       25|         770|         0|     5.0|  10.0|    9.0|   0.0|[103665.0,2712.0,...|\n",
            "|null|         1|  105574| 1045|         0|      1|       25|         770|         0|     0.0|  10.0|    9.0|   0.0|[105574.0,1045.0,...|\n",
            "|null|         2|  105575| 1045|         0|      1|       25|         770|         0|     0.0|  10.0|    9.0|   0.0|[105575.0,1045.0,...|\n",
            "|null|         1|  108079| 1030|         0|      1|       25|         770|         0|     0.0|  10.0|    9.0|   0.0|[108079.0,1030.0,...|\n",
            "|null|         1|  108701| 2644|         1|      1|       25|         770|         0|     4.0|  10.0|    9.0|   0.0|[108701.0,2644.0,...|\n",
            "|null|         3|  108786| 3044|         0|      1|       25|         770|         0|     1.0|  10.0|    9.0|   0.0|[108786.0,3044.0,...|\n",
            "|null|         1|  108797| 1004|         0|      1|       25|         770|         0|     0.0|  10.0|    9.0|   0.0|[108797.0,1004.0,...|\n",
            "|null|         1|  108952| 3024|         0|      1|       25|         770|         0|     1.0|  10.0|    9.0|   0.0|[108952.0,3024.0,...|\n",
            "|null|        13|  111397| 1072|         0|      1|       25|         770|         0|     0.0|  10.0|    9.0|   0.0|[111397.0,1072.0,...|\n",
            "|null|         3|  114790| 1004|         0|      1|       25|         770|         0|     0.0|  10.0|    9.0|   0.0|[114790.0,1004.0,...|\n",
            "|null|         1|  114800| 4126|         0|      1|       25|         770|         0|     6.0|  10.0|    9.0|   0.0|[114800.0,4126.0,...|\n",
            "|null|         1|  115267| 3034|         0|      1|       25|         770|         0|     1.0|  10.0|    9.0|   0.0|[115267.0,3034.0,...|\n",
            "|null|         1|  115611| 1014|         0|      1|       25|         770|         0|     0.0|  10.0|    9.0|   0.0|[115611.0,1014.0,...|\n",
            "|null|         1|  115693| 1040|         0|      1|       25|         770|         0|     0.0|  10.0|    9.0|   0.0|[115693.0,1040.0,...|\n",
            "|null|         5|  115720| 1084|         0|      1|       25|         770|         0|     0.0|  10.0|    9.0|   0.0|[115720.0,1084.0,...|\n",
            "|null|         1|  115850| 1004|         0|      1|       25|         770|         0|     0.0|  10.0|    9.0|   0.0|[115850.0,1004.0,...|\n",
            "|null|         6|  115891| 1016|         0|      1|       25|         770|         0|     0.0|  10.0|    9.0|   0.0|[115891.0,1016.0,...|\n",
            "|null|        10|  115892| 1016|         0|      1|       25|         770|         0|     0.0|  10.0|    9.0|   0.0|[115892.0,1016.0,...|\n",
            "|null|         5|  115894| 1016|         0|      1|       25|         770|         0|     0.0|  10.0|    9.0|   0.0|[115894.0,1016.0,...|\n",
            "|null|         1|  119024| 3026|         0|      1|       25|         770|         0|     1.0|  10.0|    9.0|   0.0|[119024.0,3026.0,...|\n",
            "+----+----------+--------+-----+----------+-------+---------+------------+----------+--------+------+-------+------+--------------------+\n",
            "only showing top 20 rows\n",
            "\n"
          ]
        }
      ],
      "source": [
        "output_12.show()"
      ]
    },
    {
      "cell_type": "code",
      "execution_count": null,
      "metadata": {
        "id": "pQduWx81rs2o"
      },
      "outputs": [],
      "source": []
    },
    {
      "cell_type": "code",
      "execution_count": null,
      "metadata": {
        "id": "iR0sDGNZnRt-"
      },
      "outputs": [],
      "source": [
        "pandasDF = final_df.toPandas()"
      ]
    },
    {
      "cell_type": "code",
      "execution_count": null,
      "metadata": {
        "colab": {
          "base_uri": "https://localhost:8080/",
          "height": 661
        },
        "id": "Yl81aRy3nRjC",
        "outputId": "d535872b-afb1-4439-b02b-9f42e7fb948e"
      },
      "outputs": [
        {
          "data": {
            "text/html": [
              "\n",
              "  <div id=\"df-fc94a454-82cc-49a3-868e-7a2258363d5f\">\n",
              "    <div class=\"colab-df-container\">\n",
              "      <div>\n",
              "<style scoped>\n",
              "    .dataframe tbody tr th:only-of-type {\n",
              "        vertical-align: middle;\n",
              "    }\n",
              "\n",
              "    .dataframe tbody tr th {\n",
              "        vertical-align: top;\n",
              "    }\n",
              "\n",
              "    .dataframe thead th {\n",
              "        text-align: right;\n",
              "    }\n",
              "</style>\n",
              "<table border=\"1\" class=\"dataframe\">\n",
              "  <thead>\n",
              "    <tr style=\"text-align: right;\">\n",
              "      <th></th>\n",
              "      <th>date</th>\n",
              "      <th>id</th>\n",
              "      <th>unit_sales</th>\n",
              "      <th>item_nbr</th>\n",
              "      <th>family</th>\n",
              "      <th>class</th>\n",
              "      <th>perishable</th>\n",
              "      <th>city</th>\n",
              "      <th>state</th>\n",
              "      <th>type</th>\n",
              "      <th>cluster</th>\n",
              "      <th>store_nbr</th>\n",
              "      <th>transactions</th>\n",
              "      <th>dcoilwtico</th>\n",
              "      <th>family_t</th>\n",
              "      <th>city_t</th>\n",
              "      <th>state_t</th>\n",
              "    </tr>\n",
              "  </thead>\n",
              "  <tbody>\n",
              "    <tr>\n",
              "      <th>0</th>\n",
              "      <td>2013-01-01</td>\n",
              "      <td>0</td>\n",
              "      <td>7</td>\n",
              "      <td>103665</td>\n",
              "      <td>BREAD/BAKERY</td>\n",
              "      <td>2712</td>\n",
              "      <td>1</td>\n",
              "      <td>Salinas</td>\n",
              "      <td>Santa Elena</td>\n",
              "      <td>D</td>\n",
              "      <td>1</td>\n",
              "      <td>25</td>\n",
              "      <td>770</td>\n",
              "      <td>0</td>\n",
              "      <td>5.0</td>\n",
              "      <td>10.0</td>\n",
              "      <td>9.0</td>\n",
              "    </tr>\n",
              "    <tr>\n",
              "      <th>1</th>\n",
              "      <td>2013-01-01</td>\n",
              "      <td>1</td>\n",
              "      <td>1</td>\n",
              "      <td>105574</td>\n",
              "      <td>GROCERY I</td>\n",
              "      <td>1045</td>\n",
              "      <td>0</td>\n",
              "      <td>Salinas</td>\n",
              "      <td>Santa Elena</td>\n",
              "      <td>D</td>\n",
              "      <td>1</td>\n",
              "      <td>25</td>\n",
              "      <td>770</td>\n",
              "      <td>0</td>\n",
              "      <td>0.0</td>\n",
              "      <td>10.0</td>\n",
              "      <td>9.0</td>\n",
              "    </tr>\n",
              "    <tr>\n",
              "      <th>2</th>\n",
              "      <td>2013-01-01</td>\n",
              "      <td>2</td>\n",
              "      <td>2</td>\n",
              "      <td>105575</td>\n",
              "      <td>GROCERY I</td>\n",
              "      <td>1045</td>\n",
              "      <td>0</td>\n",
              "      <td>Salinas</td>\n",
              "      <td>Santa Elena</td>\n",
              "      <td>D</td>\n",
              "      <td>1</td>\n",
              "      <td>25</td>\n",
              "      <td>770</td>\n",
              "      <td>0</td>\n",
              "      <td>0.0</td>\n",
              "      <td>10.0</td>\n",
              "      <td>9.0</td>\n",
              "    </tr>\n",
              "    <tr>\n",
              "      <th>3</th>\n",
              "      <td>2013-01-01</td>\n",
              "      <td>3</td>\n",
              "      <td>1</td>\n",
              "      <td>108079</td>\n",
              "      <td>GROCERY I</td>\n",
              "      <td>1030</td>\n",
              "      <td>0</td>\n",
              "      <td>Salinas</td>\n",
              "      <td>Santa Elena</td>\n",
              "      <td>D</td>\n",
              "      <td>1</td>\n",
              "      <td>25</td>\n",
              "      <td>770</td>\n",
              "      <td>0</td>\n",
              "      <td>0.0</td>\n",
              "      <td>10.0</td>\n",
              "      <td>9.0</td>\n",
              "    </tr>\n",
              "    <tr>\n",
              "      <th>4</th>\n",
              "      <td>2013-01-01</td>\n",
              "      <td>4</td>\n",
              "      <td>1</td>\n",
              "      <td>108701</td>\n",
              "      <td>DELI</td>\n",
              "      <td>2644</td>\n",
              "      <td>1</td>\n",
              "      <td>Salinas</td>\n",
              "      <td>Santa Elena</td>\n",
              "      <td>D</td>\n",
              "      <td>1</td>\n",
              "      <td>25</td>\n",
              "      <td>770</td>\n",
              "      <td>0</td>\n",
              "      <td>4.0</td>\n",
              "      <td>10.0</td>\n",
              "      <td>9.0</td>\n",
              "    </tr>\n",
              "    <tr>\n",
              "      <th>...</th>\n",
              "      <td>...</td>\n",
              "      <td>...</td>\n",
              "      <td>...</td>\n",
              "      <td>...</td>\n",
              "      <td>...</td>\n",
              "      <td>...</td>\n",
              "      <td>...</td>\n",
              "      <td>...</td>\n",
              "      <td>...</td>\n",
              "      <td>...</td>\n",
              "      <td>...</td>\n",
              "      <td>...</td>\n",
              "      <td>...</td>\n",
              "      <td>...</td>\n",
              "      <td>...</td>\n",
              "      <td>...</td>\n",
              "      <td>...</td>\n",
              "    </tr>\n",
              "    <tr>\n",
              "      <th>1048570</th>\n",
              "      <td>2013-01-27</td>\n",
              "      <td>1048570</td>\n",
              "      <td>31</td>\n",
              "      <td>956013</td>\n",
              "      <td>GROCERY I</td>\n",
              "      <td>1088</td>\n",
              "      <td>0</td>\n",
              "      <td>Quito</td>\n",
              "      <td>Pichincha</td>\n",
              "      <td>A</td>\n",
              "      <td>14</td>\n",
              "      <td>48</td>\n",
              "      <td>3977</td>\n",
              "      <td>0</td>\n",
              "      <td>0.0</td>\n",
              "      <td>0.0</td>\n",
              "      <td>0.0</td>\n",
              "    </tr>\n",
              "    <tr>\n",
              "      <th>1048571</th>\n",
              "      <td>2013-01-27</td>\n",
              "      <td>1048571</td>\n",
              "      <td>57</td>\n",
              "      <td>956014</td>\n",
              "      <td>GROCERY I</td>\n",
              "      <td>1088</td>\n",
              "      <td>0</td>\n",
              "      <td>Quito</td>\n",
              "      <td>Pichincha</td>\n",
              "      <td>A</td>\n",
              "      <td>14</td>\n",
              "      <td>48</td>\n",
              "      <td>3977</td>\n",
              "      <td>0</td>\n",
              "      <td>0.0</td>\n",
              "      <td>0.0</td>\n",
              "      <td>0.0</td>\n",
              "    </tr>\n",
              "    <tr>\n",
              "      <th>1048572</th>\n",
              "      <td>2013-01-27</td>\n",
              "      <td>1048572</td>\n",
              "      <td>6</td>\n",
              "      <td>957096</td>\n",
              "      <td>DAIRY</td>\n",
              "      <td>2130</td>\n",
              "      <td>1</td>\n",
              "      <td>Quito</td>\n",
              "      <td>Pichincha</td>\n",
              "      <td>A</td>\n",
              "      <td>14</td>\n",
              "      <td>48</td>\n",
              "      <td>3977</td>\n",
              "      <td>0</td>\n",
              "      <td>3.0</td>\n",
              "      <td>0.0</td>\n",
              "      <td>0.0</td>\n",
              "    </tr>\n",
              "    <tr>\n",
              "      <th>1048573</th>\n",
              "      <td>2013-01-27</td>\n",
              "      <td>1048573</td>\n",
              "      <td>4</td>\n",
              "      <td>957098</td>\n",
              "      <td>DAIRY</td>\n",
              "      <td>2130</td>\n",
              "      <td>1</td>\n",
              "      <td>Quito</td>\n",
              "      <td>Pichincha</td>\n",
              "      <td>A</td>\n",
              "      <td>14</td>\n",
              "      <td>48</td>\n",
              "      <td>3977</td>\n",
              "      <td>0</td>\n",
              "      <td>3.0</td>\n",
              "      <td>0.0</td>\n",
              "      <td>0.0</td>\n",
              "    </tr>\n",
              "    <tr>\n",
              "      <th>1048574</th>\n",
              "      <td>2013-01-27</td>\n",
              "      <td>1048574</td>\n",
              "      <td>6</td>\n",
              "      <td>958514</td>\n",
              "      <td>BEAUTY</td>\n",
              "      <td>4252</td>\n",
              "      <td>0</td>\n",
              "      <td>Quito</td>\n",
              "      <td>Pichincha</td>\n",
              "      <td>A</td>\n",
              "      <td>14</td>\n",
              "      <td>48</td>\n",
              "      <td>3977</td>\n",
              "      <td>0</td>\n",
              "      <td>17.0</td>\n",
              "      <td>0.0</td>\n",
              "      <td>0.0</td>\n",
              "    </tr>\n",
              "  </tbody>\n",
              "</table>\n",
              "<p>1048575 rows × 17 columns</p>\n",
              "</div>\n",
              "      <button class=\"colab-df-convert\" onclick=\"convertToInteractive('df-fc94a454-82cc-49a3-868e-7a2258363d5f')\"\n",
              "              title=\"Convert this dataframe to an interactive table.\"\n",
              "              style=\"display:none;\">\n",
              "        \n",
              "  <svg xmlns=\"http://www.w3.org/2000/svg\" height=\"24px\"viewBox=\"0 0 24 24\"\n",
              "       width=\"24px\">\n",
              "    <path d=\"M0 0h24v24H0V0z\" fill=\"none\"/>\n",
              "    <path d=\"M18.56 5.44l.94 2.06.94-2.06 2.06-.94-2.06-.94-.94-2.06-.94 2.06-2.06.94zm-11 1L8.5 8.5l.94-2.06 2.06-.94-2.06-.94L8.5 2.5l-.94 2.06-2.06.94zm10 10l.94 2.06.94-2.06 2.06-.94-2.06-.94-.94-2.06-.94 2.06-2.06.94z\"/><path d=\"M17.41 7.96l-1.37-1.37c-.4-.4-.92-.59-1.43-.59-.52 0-1.04.2-1.43.59L10.3 9.45l-7.72 7.72c-.78.78-.78 2.05 0 2.83L4 21.41c.39.39.9.59 1.41.59.51 0 1.02-.2 1.41-.59l7.78-7.78 2.81-2.81c.8-.78.8-2.07 0-2.86zM5.41 20L4 18.59l7.72-7.72 1.47 1.35L5.41 20z\"/>\n",
              "  </svg>\n",
              "      </button>\n",
              "      \n",
              "  <style>\n",
              "    .colab-df-container {\n",
              "      display:flex;\n",
              "      flex-wrap:wrap;\n",
              "      gap: 12px;\n",
              "    }\n",
              "\n",
              "    .colab-df-convert {\n",
              "      background-color: #E8F0FE;\n",
              "      border: none;\n",
              "      border-radius: 50%;\n",
              "      cursor: pointer;\n",
              "      display: none;\n",
              "      fill: #1967D2;\n",
              "      height: 32px;\n",
              "      padding: 0 0 0 0;\n",
              "      width: 32px;\n",
              "    }\n",
              "\n",
              "    .colab-df-convert:hover {\n",
              "      background-color: #E2EBFA;\n",
              "      box-shadow: 0px 1px 2px rgba(60, 64, 67, 0.3), 0px 1px 3px 1px rgba(60, 64, 67, 0.15);\n",
              "      fill: #174EA6;\n",
              "    }\n",
              "\n",
              "    [theme=dark] .colab-df-convert {\n",
              "      background-color: #3B4455;\n",
              "      fill: #D2E3FC;\n",
              "    }\n",
              "\n",
              "    [theme=dark] .colab-df-convert:hover {\n",
              "      background-color: #434B5C;\n",
              "      box-shadow: 0px 1px 3px 1px rgba(0, 0, 0, 0.15);\n",
              "      filter: drop-shadow(0px 1px 2px rgba(0, 0, 0, 0.3));\n",
              "      fill: #FFFFFF;\n",
              "    }\n",
              "  </style>\n",
              "\n",
              "      <script>\n",
              "        const buttonEl =\n",
              "          document.querySelector('#df-fc94a454-82cc-49a3-868e-7a2258363d5f button.colab-df-convert');\n",
              "        buttonEl.style.display =\n",
              "          google.colab.kernel.accessAllowed ? 'block' : 'none';\n",
              "\n",
              "        async function convertToInteractive(key) {\n",
              "          const element = document.querySelector('#df-fc94a454-82cc-49a3-868e-7a2258363d5f');\n",
              "          const dataTable =\n",
              "            await google.colab.kernel.invokeFunction('convertToInteractive',\n",
              "                                                     [key], {});\n",
              "          if (!dataTable) return;\n",
              "\n",
              "          const docLinkHtml = 'Like what you see? Visit the ' +\n",
              "            '<a target=\"_blank\" href=https://colab.research.google.com/notebooks/data_table.ipynb>data table notebook</a>'\n",
              "            + ' to learn more about interactive tables.';\n",
              "          element.innerHTML = '';\n",
              "          dataTable['output_type'] = 'display_data';\n",
              "          await google.colab.output.renderOutput(dataTable, element);\n",
              "          const docLink = document.createElement('div');\n",
              "          docLink.innerHTML = docLinkHtml;\n",
              "          element.appendChild(docLink);\n",
              "        }\n",
              "      </script>\n",
              "    </div>\n",
              "  </div>\n",
              "  "
            ],
            "text/plain": [
              "              date       id  unit_sales  item_nbr        family  class  \\\n",
              "0       2013-01-01        0           7    103665  BREAD/BAKERY   2712   \n",
              "1       2013-01-01        1           1    105574     GROCERY I   1045   \n",
              "2       2013-01-01        2           2    105575     GROCERY I   1045   \n",
              "3       2013-01-01        3           1    108079     GROCERY I   1030   \n",
              "4       2013-01-01        4           1    108701          DELI   2644   \n",
              "...            ...      ...         ...       ...           ...    ...   \n",
              "1048570 2013-01-27  1048570          31    956013     GROCERY I   1088   \n",
              "1048571 2013-01-27  1048571          57    956014     GROCERY I   1088   \n",
              "1048572 2013-01-27  1048572           6    957096         DAIRY   2130   \n",
              "1048573 2013-01-27  1048573           4    957098         DAIRY   2130   \n",
              "1048574 2013-01-27  1048574           6    958514        BEAUTY   4252   \n",
              "\n",
              "         perishable     city        state type  cluster  store_nbr  \\\n",
              "0                 1  Salinas  Santa Elena    D        1         25   \n",
              "1                 0  Salinas  Santa Elena    D        1         25   \n",
              "2                 0  Salinas  Santa Elena    D        1         25   \n",
              "3                 0  Salinas  Santa Elena    D        1         25   \n",
              "4                 1  Salinas  Santa Elena    D        1         25   \n",
              "...             ...      ...          ...  ...      ...        ...   \n",
              "1048570           0    Quito    Pichincha    A       14         48   \n",
              "1048571           0    Quito    Pichincha    A       14         48   \n",
              "1048572           1    Quito    Pichincha    A       14         48   \n",
              "1048573           1    Quito    Pichincha    A       14         48   \n",
              "1048574           0    Quito    Pichincha    A       14         48   \n",
              "\n",
              "         transactions  dcoilwtico  family_t  city_t  state_t  \n",
              "0                 770           0       5.0    10.0      9.0  \n",
              "1                 770           0       0.0    10.0      9.0  \n",
              "2                 770           0       0.0    10.0      9.0  \n",
              "3                 770           0       0.0    10.0      9.0  \n",
              "4                 770           0       4.0    10.0      9.0  \n",
              "...               ...         ...       ...     ...      ...  \n",
              "1048570          3977           0       0.0     0.0      0.0  \n",
              "1048571          3977           0       0.0     0.0      0.0  \n",
              "1048572          3977           0       3.0     0.0      0.0  \n",
              "1048573          3977           0       3.0     0.0      0.0  \n",
              "1048574          3977           0      17.0     0.0      0.0  \n",
              "\n",
              "[1048575 rows x 17 columns]"
            ]
          },
          "execution_count": 102,
          "metadata": {},
          "output_type": "execute_result"
        }
      ],
      "source": [
        "pandasDF"
      ]
    },
    {
      "cell_type": "code",
      "execution_count": null,
      "metadata": {
        "id": "QsQj6SU08b9F"
      },
      "outputs": [],
      "source": [
        "item_df = pandasDF.set_index('date')"
      ]
    },
    {
      "cell_type": "code",
      "execution_count": null,
      "metadata": {
        "id": "oMHBBB0oB3my"
      },
      "outputs": [],
      "source": [
        "item_df.drop(['id', 'family', 'city', 'state'], axis=1, inplace=True)"
      ]
    },
    {
      "cell_type": "code",
      "execution_count": null,
      "metadata": {
        "colab": {
          "base_uri": "https://localhost:8080/",
          "height": 693
        },
        "id": "oHDqVktNCAAS",
        "outputId": "1db674c5-f246-456d-e934-f3338ec38b3e"
      },
      "outputs": [
        {
          "data": {
            "text/html": [
              "\n",
              "  <div id=\"df-934f99e0-5929-42d4-9c55-1766fb0334f6\">\n",
              "    <div class=\"colab-df-container\">\n",
              "      <div>\n",
              "<style scoped>\n",
              "    .dataframe tbody tr th:only-of-type {\n",
              "        vertical-align: middle;\n",
              "    }\n",
              "\n",
              "    .dataframe tbody tr th {\n",
              "        vertical-align: top;\n",
              "    }\n",
              "\n",
              "    .dataframe thead th {\n",
              "        text-align: right;\n",
              "    }\n",
              "</style>\n",
              "<table border=\"1\" class=\"dataframe\">\n",
              "  <thead>\n",
              "    <tr style=\"text-align: right;\">\n",
              "      <th></th>\n",
              "      <th>unit_sales</th>\n",
              "      <th>item_nbr</th>\n",
              "      <th>class</th>\n",
              "      <th>perishable</th>\n",
              "      <th>type</th>\n",
              "      <th>cluster</th>\n",
              "      <th>store_nbr</th>\n",
              "      <th>transactions</th>\n",
              "      <th>dcoilwtico</th>\n",
              "      <th>family_t</th>\n",
              "      <th>city_t</th>\n",
              "      <th>state_t</th>\n",
              "    </tr>\n",
              "    <tr>\n",
              "      <th>date</th>\n",
              "      <th></th>\n",
              "      <th></th>\n",
              "      <th></th>\n",
              "      <th></th>\n",
              "      <th></th>\n",
              "      <th></th>\n",
              "      <th></th>\n",
              "      <th></th>\n",
              "      <th></th>\n",
              "      <th></th>\n",
              "      <th></th>\n",
              "      <th></th>\n",
              "    </tr>\n",
              "  </thead>\n",
              "  <tbody>\n",
              "    <tr>\n",
              "      <th>2013-01-01</th>\n",
              "      <td>7</td>\n",
              "      <td>103665</td>\n",
              "      <td>2712</td>\n",
              "      <td>1</td>\n",
              "      <td>D</td>\n",
              "      <td>1</td>\n",
              "      <td>25</td>\n",
              "      <td>770</td>\n",
              "      <td>0</td>\n",
              "      <td>5.0</td>\n",
              "      <td>10.0</td>\n",
              "      <td>9.0</td>\n",
              "    </tr>\n",
              "    <tr>\n",
              "      <th>2013-01-01</th>\n",
              "      <td>1</td>\n",
              "      <td>105574</td>\n",
              "      <td>1045</td>\n",
              "      <td>0</td>\n",
              "      <td>D</td>\n",
              "      <td>1</td>\n",
              "      <td>25</td>\n",
              "      <td>770</td>\n",
              "      <td>0</td>\n",
              "      <td>0.0</td>\n",
              "      <td>10.0</td>\n",
              "      <td>9.0</td>\n",
              "    </tr>\n",
              "    <tr>\n",
              "      <th>2013-01-01</th>\n",
              "      <td>2</td>\n",
              "      <td>105575</td>\n",
              "      <td>1045</td>\n",
              "      <td>0</td>\n",
              "      <td>D</td>\n",
              "      <td>1</td>\n",
              "      <td>25</td>\n",
              "      <td>770</td>\n",
              "      <td>0</td>\n",
              "      <td>0.0</td>\n",
              "      <td>10.0</td>\n",
              "      <td>9.0</td>\n",
              "    </tr>\n",
              "    <tr>\n",
              "      <th>2013-01-01</th>\n",
              "      <td>1</td>\n",
              "      <td>108079</td>\n",
              "      <td>1030</td>\n",
              "      <td>0</td>\n",
              "      <td>D</td>\n",
              "      <td>1</td>\n",
              "      <td>25</td>\n",
              "      <td>770</td>\n",
              "      <td>0</td>\n",
              "      <td>0.0</td>\n",
              "      <td>10.0</td>\n",
              "      <td>9.0</td>\n",
              "    </tr>\n",
              "    <tr>\n",
              "      <th>2013-01-01</th>\n",
              "      <td>1</td>\n",
              "      <td>108701</td>\n",
              "      <td>2644</td>\n",
              "      <td>1</td>\n",
              "      <td>D</td>\n",
              "      <td>1</td>\n",
              "      <td>25</td>\n",
              "      <td>770</td>\n",
              "      <td>0</td>\n",
              "      <td>4.0</td>\n",
              "      <td>10.0</td>\n",
              "      <td>9.0</td>\n",
              "    </tr>\n",
              "    <tr>\n",
              "      <th>...</th>\n",
              "      <td>...</td>\n",
              "      <td>...</td>\n",
              "      <td>...</td>\n",
              "      <td>...</td>\n",
              "      <td>...</td>\n",
              "      <td>...</td>\n",
              "      <td>...</td>\n",
              "      <td>...</td>\n",
              "      <td>...</td>\n",
              "      <td>...</td>\n",
              "      <td>...</td>\n",
              "      <td>...</td>\n",
              "    </tr>\n",
              "    <tr>\n",
              "      <th>2013-01-27</th>\n",
              "      <td>31</td>\n",
              "      <td>956013</td>\n",
              "      <td>1088</td>\n",
              "      <td>0</td>\n",
              "      <td>A</td>\n",
              "      <td>14</td>\n",
              "      <td>48</td>\n",
              "      <td>3977</td>\n",
              "      <td>0</td>\n",
              "      <td>0.0</td>\n",
              "      <td>0.0</td>\n",
              "      <td>0.0</td>\n",
              "    </tr>\n",
              "    <tr>\n",
              "      <th>2013-01-27</th>\n",
              "      <td>57</td>\n",
              "      <td>956014</td>\n",
              "      <td>1088</td>\n",
              "      <td>0</td>\n",
              "      <td>A</td>\n",
              "      <td>14</td>\n",
              "      <td>48</td>\n",
              "      <td>3977</td>\n",
              "      <td>0</td>\n",
              "      <td>0.0</td>\n",
              "      <td>0.0</td>\n",
              "      <td>0.0</td>\n",
              "    </tr>\n",
              "    <tr>\n",
              "      <th>2013-01-27</th>\n",
              "      <td>6</td>\n",
              "      <td>957096</td>\n",
              "      <td>2130</td>\n",
              "      <td>1</td>\n",
              "      <td>A</td>\n",
              "      <td>14</td>\n",
              "      <td>48</td>\n",
              "      <td>3977</td>\n",
              "      <td>0</td>\n",
              "      <td>3.0</td>\n",
              "      <td>0.0</td>\n",
              "      <td>0.0</td>\n",
              "    </tr>\n",
              "    <tr>\n",
              "      <th>2013-01-27</th>\n",
              "      <td>4</td>\n",
              "      <td>957098</td>\n",
              "      <td>2130</td>\n",
              "      <td>1</td>\n",
              "      <td>A</td>\n",
              "      <td>14</td>\n",
              "      <td>48</td>\n",
              "      <td>3977</td>\n",
              "      <td>0</td>\n",
              "      <td>3.0</td>\n",
              "      <td>0.0</td>\n",
              "      <td>0.0</td>\n",
              "    </tr>\n",
              "    <tr>\n",
              "      <th>2013-01-27</th>\n",
              "      <td>6</td>\n",
              "      <td>958514</td>\n",
              "      <td>4252</td>\n",
              "      <td>0</td>\n",
              "      <td>A</td>\n",
              "      <td>14</td>\n",
              "      <td>48</td>\n",
              "      <td>3977</td>\n",
              "      <td>0</td>\n",
              "      <td>17.0</td>\n",
              "      <td>0.0</td>\n",
              "      <td>0.0</td>\n",
              "    </tr>\n",
              "  </tbody>\n",
              "</table>\n",
              "<p>1048575 rows × 12 columns</p>\n",
              "</div>\n",
              "      <button class=\"colab-df-convert\" onclick=\"convertToInteractive('df-934f99e0-5929-42d4-9c55-1766fb0334f6')\"\n",
              "              title=\"Convert this dataframe to an interactive table.\"\n",
              "              style=\"display:none;\">\n",
              "        \n",
              "  <svg xmlns=\"http://www.w3.org/2000/svg\" height=\"24px\"viewBox=\"0 0 24 24\"\n",
              "       width=\"24px\">\n",
              "    <path d=\"M0 0h24v24H0V0z\" fill=\"none\"/>\n",
              "    <path d=\"M18.56 5.44l.94 2.06.94-2.06 2.06-.94-2.06-.94-.94-2.06-.94 2.06-2.06.94zm-11 1L8.5 8.5l.94-2.06 2.06-.94-2.06-.94L8.5 2.5l-.94 2.06-2.06.94zm10 10l.94 2.06.94-2.06 2.06-.94-2.06-.94-.94-2.06-.94 2.06-2.06.94z\"/><path d=\"M17.41 7.96l-1.37-1.37c-.4-.4-.92-.59-1.43-.59-.52 0-1.04.2-1.43.59L10.3 9.45l-7.72 7.72c-.78.78-.78 2.05 0 2.83L4 21.41c.39.39.9.59 1.41.59.51 0 1.02-.2 1.41-.59l7.78-7.78 2.81-2.81c.8-.78.8-2.07 0-2.86zM5.41 20L4 18.59l7.72-7.72 1.47 1.35L5.41 20z\"/>\n",
              "  </svg>\n",
              "      </button>\n",
              "      \n",
              "  <style>\n",
              "    .colab-df-container {\n",
              "      display:flex;\n",
              "      flex-wrap:wrap;\n",
              "      gap: 12px;\n",
              "    }\n",
              "\n",
              "    .colab-df-convert {\n",
              "      background-color: #E8F0FE;\n",
              "      border: none;\n",
              "      border-radius: 50%;\n",
              "      cursor: pointer;\n",
              "      display: none;\n",
              "      fill: #1967D2;\n",
              "      height: 32px;\n",
              "      padding: 0 0 0 0;\n",
              "      width: 32px;\n",
              "    }\n",
              "\n",
              "    .colab-df-convert:hover {\n",
              "      background-color: #E2EBFA;\n",
              "      box-shadow: 0px 1px 2px rgba(60, 64, 67, 0.3), 0px 1px 3px 1px rgba(60, 64, 67, 0.15);\n",
              "      fill: #174EA6;\n",
              "    }\n",
              "\n",
              "    [theme=dark] .colab-df-convert {\n",
              "      background-color: #3B4455;\n",
              "      fill: #D2E3FC;\n",
              "    }\n",
              "\n",
              "    [theme=dark] .colab-df-convert:hover {\n",
              "      background-color: #434B5C;\n",
              "      box-shadow: 0px 1px 3px 1px rgba(0, 0, 0, 0.15);\n",
              "      filter: drop-shadow(0px 1px 2px rgba(0, 0, 0, 0.3));\n",
              "      fill: #FFFFFF;\n",
              "    }\n",
              "  </style>\n",
              "\n",
              "      <script>\n",
              "        const buttonEl =\n",
              "          document.querySelector('#df-934f99e0-5929-42d4-9c55-1766fb0334f6 button.colab-df-convert');\n",
              "        buttonEl.style.display =\n",
              "          google.colab.kernel.accessAllowed ? 'block' : 'none';\n",
              "\n",
              "        async function convertToInteractive(key) {\n",
              "          const element = document.querySelector('#df-934f99e0-5929-42d4-9c55-1766fb0334f6');\n",
              "          const dataTable =\n",
              "            await google.colab.kernel.invokeFunction('convertToInteractive',\n",
              "                                                     [key], {});\n",
              "          if (!dataTable) return;\n",
              "\n",
              "          const docLinkHtml = 'Like what you see? Visit the ' +\n",
              "            '<a target=\"_blank\" href=https://colab.research.google.com/notebooks/data_table.ipynb>data table notebook</a>'\n",
              "            + ' to learn more about interactive tables.';\n",
              "          element.innerHTML = '';\n",
              "          dataTable['output_type'] = 'display_data';\n",
              "          await google.colab.output.renderOutput(dataTable, element);\n",
              "          const docLink = document.createElement('div');\n",
              "          docLink.innerHTML = docLinkHtml;\n",
              "          element.appendChild(docLink);\n",
              "        }\n",
              "      </script>\n",
              "    </div>\n",
              "  </div>\n",
              "  "
            ],
            "text/plain": [
              "            unit_sales  item_nbr  class  perishable type  cluster  store_nbr  \\\n",
              "date                                                                           \n",
              "2013-01-01           7    103665   2712           1    D        1         25   \n",
              "2013-01-01           1    105574   1045           0    D        1         25   \n",
              "2013-01-01           2    105575   1045           0    D        1         25   \n",
              "2013-01-01           1    108079   1030           0    D        1         25   \n",
              "2013-01-01           1    108701   2644           1    D        1         25   \n",
              "...                ...       ...    ...         ...  ...      ...        ...   \n",
              "2013-01-27          31    956013   1088           0    A       14         48   \n",
              "2013-01-27          57    956014   1088           0    A       14         48   \n",
              "2013-01-27           6    957096   2130           1    A       14         48   \n",
              "2013-01-27           4    957098   2130           1    A       14         48   \n",
              "2013-01-27           6    958514   4252           0    A       14         48   \n",
              "\n",
              "            transactions  dcoilwtico  family_t  city_t  state_t  \n",
              "date                                                             \n",
              "2013-01-01           770           0       5.0    10.0      9.0  \n",
              "2013-01-01           770           0       0.0    10.0      9.0  \n",
              "2013-01-01           770           0       0.0    10.0      9.0  \n",
              "2013-01-01           770           0       0.0    10.0      9.0  \n",
              "2013-01-01           770           0       4.0    10.0      9.0  \n",
              "...                  ...         ...       ...     ...      ...  \n",
              "2013-01-27          3977           0       0.0     0.0      0.0  \n",
              "2013-01-27          3977           0       0.0     0.0      0.0  \n",
              "2013-01-27          3977           0       3.0     0.0      0.0  \n",
              "2013-01-27          3977           0       3.0     0.0      0.0  \n",
              "2013-01-27          3977           0      17.0     0.0      0.0  \n",
              "\n",
              "[1048575 rows x 12 columns]"
            ]
          },
          "execution_count": 111,
          "metadata": {},
          "output_type": "execute_result"
        }
      ],
      "source": [
        "item_df"
      ]
    },
    {
      "cell_type": "code",
      "execution_count": null,
      "metadata": {
        "colab": {
          "base_uri": "https://localhost:8080/",
          "height": 277
        },
        "id": "dz4AVVUc3Yti",
        "outputId": "67fc5eac-f41c-4419-9c58-c44cf95bf0ce"
      },
      "outputs": [
        {
          "data": {
            "image/png": "[encoded data removed]",
            "text/plain": [
              "<Figure size 432x288 with 1 Axes>"
            ]
          },
          "metadata": {},
          "output_type": "display_data"
        }
      ],
      "source": [
        "import matplotlib.pyplot as plt\n",
        "item_df.query('store_nbr == 25')[['unit_sales']].plot()\n",
        "plt.show()"
      ]
    },
    {
      "cell_type": "code",
      "execution_count": null,
      "metadata": {
        "colab": {
          "base_uri": "https://localhost:8080/",
          "height": 277
        },
        "id": "Ctp7nHIm9rKq",
        "outputId": "c38808a6-12bf-406d-a8a5-60222b4e35b1"
      },
      "outputs": [
        {
          "data": {
            "image/png": "[encoded data removed]",
            "text/plain": [
              "<Figure size 432x288 with 1 Axes>"
            ]
          },
          "metadata": {},
          "output_type": "display_data"
        }
      ],
      "source": [
        "item_df.query('store_nbr == 2')[['unit_sales']].plot()\n",
        "plt.show()"
      ]
    },
    {
      "cell_type": "code",
      "execution_count": null,
      "metadata": {
        "colab": {
          "base_uri": "https://localhost:8080/"
        },
        "id": "iw257wwRLjPT",
        "outputId": "b66fe2d9-1d84-4592-e4e1-0f0a3af4d0de"
      },
      "outputs": [
        {
          "name": "stdout",
          "output_type": "stream",
          "text": [
            "+-------------------+----------+--------+-----+----------+----+-------+---------+------------+----------+--------+------+-------+\n",
            "|               date|unit_sales|item_nbr|class|perishable|type|cluster|store_nbr|transactions|dcoilwtico|family_t|city_t|state_t|\n",
            "+-------------------+----------+--------+-----+----------+----+-------+---------+------------+----------+--------+------+-------+\n",
            "|2013-01-01 00:00:00|         7|  103665| 2712|         1|   D|      1|       25|         770|         0|     5.0|  10.0|    9.0|\n",
            "|2013-01-01 00:00:00|         1|  105574| 1045|         0|   D|      1|       25|         770|         0|     0.0|  10.0|    9.0|\n",
            "|2013-01-01 00:00:00|         2|  105575| 1045|         0|   D|      1|       25|         770|         0|     0.0|  10.0|    9.0|\n",
            "|2013-01-01 00:00:00|         1|  108079| 1030|         0|   D|      1|       25|         770|         0|     0.0|  10.0|    9.0|\n",
            "|2013-01-01 00:00:00|         1|  108701| 2644|         1|   D|      1|       25|         770|         0|     4.0|  10.0|    9.0|\n",
            "|2013-01-01 00:00:00|         3|  108786| 3044|         0|   D|      1|       25|         770|         0|     1.0|  10.0|    9.0|\n",
            "|2013-01-01 00:00:00|         1|  108797| 1004|         0|   D|      1|       25|         770|         0|     0.0|  10.0|    9.0|\n",
            "|2013-01-01 00:00:00|         1|  108952| 3024|         0|   D|      1|       25|         770|         0|     1.0|  10.0|    9.0|\n",
            "|2013-01-01 00:00:00|        13|  111397| 1072|         0|   D|      1|       25|         770|         0|     0.0|  10.0|    9.0|\n",
            "|2013-01-01 00:00:00|         3|  114790| 1004|         0|   D|      1|       25|         770|         0|     0.0|  10.0|    9.0|\n",
            "|2013-01-01 00:00:00|         1|  114800| 4126|         0|   D|      1|       25|         770|         0|     6.0|  10.0|    9.0|\n",
            "|2013-01-01 00:00:00|         1|  115267| 3034|         0|   D|      1|       25|         770|         0|     1.0|  10.0|    9.0|\n",
            "|2013-01-01 00:00:00|         1|  115611| 1014|         0|   D|      1|       25|         770|         0|     0.0|  10.0|    9.0|\n",
            "|2013-01-01 00:00:00|         1|  115693| 1040|         0|   D|      1|       25|         770|         0|     0.0|  10.0|    9.0|\n",
            "|2013-01-01 00:00:00|         5|  115720| 1084|         0|   D|      1|       25|         770|         0|     0.0|  10.0|    9.0|\n",
            "|2013-01-01 00:00:00|         1|  115850| 1004|         0|   D|      1|       25|         770|         0|     0.0|  10.0|    9.0|\n",
            "|2013-01-01 00:00:00|         6|  115891| 1016|         0|   D|      1|       25|         770|         0|     0.0|  10.0|    9.0|\n",
            "|2013-01-01 00:00:00|        10|  115892| 1016|         0|   D|      1|       25|         770|         0|     0.0|  10.0|    9.0|\n",
            "|2013-01-01 00:00:00|         5|  115894| 1016|         0|   D|      1|       25|         770|         0|     0.0|  10.0|    9.0|\n",
            "|2013-01-01 00:00:00|         1|  119024| 3026|         0|   D|      1|       25|         770|         0|     1.0|  10.0|    9.0|\n",
            "+-------------------+----------+--------+-----+----------+----+-------+---------+------------+----------+--------+------+-------+\n",
            "only showing top 20 rows\n",
            "\n"
          ]
        }
      ],
      "source": [
        "final_df.show()"
      ]
    },
    {
      "cell_type": "code",
      "execution_count": null,
      "metadata": {
        "colab": {
          "base_uri": "https://localhost:8080/"
        },
        "id": "pU64rsp4Leew",
        "outputId": "2b1d6a3e-1b71-4a97-8e39-ad2d37fe02b9"
      },
      "outputs": [
        {
          "name": "stdout",
          "output_type": "stream",
          "text": [
            "+---------+----------------+\n",
            "|store_nbr|count(store_nbr)|\n",
            "+---------+----------------+\n",
            "|       31|           20456|\n",
            "|       34|           21343|\n",
            "|       28|           20593|\n",
            "|       26|           19286|\n",
            "|       27|           23829|\n",
            "|       44|           32203|\n",
            "|       12|           17521|\n",
            "|       47|           31623|\n",
            "|        1|           24212|\n",
            "|       13|           16269|\n",
            "|        6|           28736|\n",
            "|       16|           18253|\n",
            "|        3|           31016|\n",
            "|       40|           17375|\n",
            "|       54|           14338|\n",
            "|       48|           28898|\n",
            "|        5|           26338|\n",
            "|       19|           16032|\n",
            "|       41|           21980|\n",
            "|       15|           17771|\n",
            "+---------+----------------+\n",
            "only showing top 20 rows\n",
            "\n"
          ]
        }
      ],
      "source": [
        "final_df.select(['store_nbr']).groupby('store_nbr').agg({'store_nbr': 'count'}).show()"
      ]
    },
    {
      "cell_type": "code",
      "execution_count": null,
      "metadata": {
        "colab": {
          "base_uri": "https://localhost:8080/"
        },
        "id": "GXotjT-CL_Ot",
        "outputId": "ef4713c0-a5ef-42be-d0ee-ac614e1c61f5"
      },
      "outputs": [
        {
          "name": "stdout",
          "output_type": "stream",
          "text": [
            "+---------+--------+\n",
            "|store_nbr|count(1)|\n",
            "+---------+--------+\n",
            "|        1|   24212|\n",
            "|        2|   27526|\n",
            "|        3|   31016|\n",
            "|        4|   26580|\n",
            "|        5|   26338|\n",
            "|        6|   28736|\n",
            "|        7|   26694|\n",
            "|        8|   30156|\n",
            "|        9|   25311|\n",
            "|       10|   16558|\n",
            "|       11|   23283|\n",
            "|       12|   17521|\n",
            "|       13|   16269|\n",
            "|       14|   17362|\n",
            "|       15|   17771|\n",
            "|       16|   18253|\n",
            "|       17|   18927|\n",
            "|       18|   21628|\n",
            "|       19|   16032|\n",
            "|       23|   23075|\n",
            "+---------+--------+\n",
            "only showing top 20 rows\n",
            "\n"
          ]
        }
      ],
      "source": [
        "final_df.createOrReplaceTempView(\"unit_sales\")\n",
        "spark.sql(\"select store_nbr, count(*) from unit_sales group by store_nbr order by store_nbr\").show()"
      ]
    },
    {
      "cell_type": "code",
      "execution_count": null,
      "metadata": {
        "colab": {
          "base_uri": "https://localhost:8080/"
        },
        "id": "Y0lSpuC2O_7t",
        "outputId": "c1dec7b3-cf77-4286-a4a4-41fd1b1cbbee"
      },
      "outputs": [
        {
          "name": "stdout",
          "output_type": "stream",
          "text": [
            "+---------+-------------------+----+\n",
            "|store_nbr|                 ds|   y|\n",
            "+---------+-------------------+----+\n",
            "|        1|2013-01-13 00:00:00|2695|\n",
            "|        1|2013-01-14 00:00:00|5652|\n",
            "|        1|2013-01-15 00:00:00|5208|\n",
            "|        1|2013-01-16 00:00:00|6735|\n",
            "|        1|2013-01-17 00:00:00|4941|\n",
            "|        1|2013-01-18 00:00:00|5922|\n",
            "|        1|2013-01-19 00:00:00|5898|\n",
            "|        1|2013-01-20 00:00:00|2371|\n",
            "|        1|2013-01-21 00:00:00|5229|\n",
            "|        1|2013-01-22 00:00:00|5301|\n",
            "|        1|2013-01-23 00:00:00|6257|\n",
            "|        1|2013-01-24 00:00:00|4860|\n",
            "|        1|2013-01-25 00:00:00|5576|\n",
            "|        1|2013-01-26 00:00:00|5291|\n",
            "|        1|2013-01-27 00:00:00|2443|\n",
            "|        1|2013-02-01 00:00:00|7416|\n",
            "|        1|2013-03-01 00:00:00|5877|\n",
            "|        1|2013-04-01 00:00:00|5919|\n",
            "|        1|2013-05-01 00:00:00|6318|\n",
            "|        1|2013-06-01 00:00:00|2201|\n",
            "+---------+-------------------+----+\n",
            "only showing top 20 rows\n",
            "\n"
          ]
        }
      ],
      "source": [
        "sql = \"SELECT store_nbr, date as ds, sum(unit_sales) as y FROM unit_sales GROUP BY store_nbr, ds ORDER BY store_nbr, ds\"\n",
        "spark.sql(sql).show()"
      ]
    },
    {
      "cell_type": "code",
      "execution_count": null,
      "metadata": {
        "colab": {
          "base_uri": "https://localhost:8080/"
        },
        "id": "g69FaV8jQmzF",
        "outputId": "ee673fe8-2946-4c02-a9ca-9bddeac5e698"
      },
      "outputs": [
        {
          "name": "stdout",
          "output_type": "stream",
          "text": [
            "== Physical Plan ==\n",
            "InMemoryTableScan [store_nbr#1498, ds#2640, y#2641L]\n",
            "   +- InMemoryRelation [store_nbr#1498, ds#2640, y#2641L], StorageLevel(disk, memory, deserialized, 1 replicas)\n",
            "         +- Exchange hashpartitioning(store_nbr#1498, 2), REPARTITION_BY_NUM, [plan_id=11503]\n",
            "            +- *(6) HashAggregate(keys=[store_nbr#1498, date#1453], functions=[sum(unit_sales#1468)])\n",
            "               +- Exchange hashpartitioning(store_nbr#1498, date#1453, 200), ENSURE_REQUIREMENTS, [plan_id=11499]\n",
            "                  +- *(5) HashAggregate(keys=[store_nbr#1498, date#1453], functions=[partial_sum(unit_sales#1468)])\n",
            "                     +- *(5) Project [cast(cast(date#18 as date) as timestamp) AS date#1453, cast(round(cast(unit_sales#21 as double), 0) as int) AS unit_sales#1468, cast(round(cast(store_nbr#97 as double), 0) as int) AS store_nbr#1498]\n",
            "                        +- *(5) BroadcastHashJoin [date#18], [date#639], LeftOuter, BuildRight, false\n",
            "                           :- *(5) Project [date#18, unit_sales#21, store_nbr#97]\n",
            "                           :  +- *(5) BroadcastHashJoin [store_nbr#69, date#18], [store_nbr#97, tdate#139], LeftOuter, BuildRight, false\n",
            "                           :     :- *(5) Project [date#18, unit_sales#21, store_nbr#69]\n",
            "                           :     :  +- *(5) BroadcastHashJoin [store_nbr#19], [store_nbr#69], LeftOuter, BuildRight, false\n",
            "                           :     :     :- *(5) Project [date#18, store_nbr#19, unit_sales#21]\n",
            "                           :     :     :  +- *(5) BroadcastHashJoin [item_nbr#20], [item_nbr#44], LeftOuter, BuildRight, false\n",
            "                           :     :     :     :- FileScan csv [date#18,store_nbr#19,item_nbr#20,unit_sales#21] Batched: false, DataFilters: [], Format: CSV, Location: InMemoryFileIndex(1 paths)[file:/content/train_file.csv], PartitionFilters: [], PushedFilters: [], ReadSchema: struct<date:string,store_nbr:string,item_nbr:string,unit_sales:string>\n",
            "                           :     :     :     +- BroadcastExchange HashedRelationBroadcastMode(List(input[0, string, false]),false), [plan_id=11471]\n",
            "                           :     :     :        +- *(1) Filter isnotnull(item_nbr#44)\n",
            "                           :     :     :           +- FileScan csv [item_nbr#44] Batched: false, DataFilters: [isnotnull(item_nbr#44)], Format: CSV, Location: InMemoryFileIndex(1 paths)[file:/content/items.csv], PartitionFilters: [], PushedFilters: [IsNotNull(item_nbr)], ReadSchema: struct<item_nbr:string>\n",
            "                           :     :     +- BroadcastExchange HashedRelationBroadcastMode(List(input[0, string, false]),false), [plan_id=11478]\n",
            "                           :     :        +- *(2) Filter isnotnull(store_nbr#69)\n",
            "                           :     :           +- FileScan csv [store_nbr#69] Batched: false, DataFilters: [isnotnull(store_nbr#69)], Format: CSV, Location: InMemoryFileIndex(1 paths)[file:/content/stores.csv], PartitionFilters: [], PushedFilters: [IsNotNull(store_nbr)], ReadSchema: struct<store_nbr:string>\n",
            "                           :     +- BroadcastExchange HashedRelationBroadcastMode(List(input[1, string, true], input[0, string, true]),false), [plan_id=11486]\n",
            "                           :        +- *(3) Project [date#96 AS tdate#139, store_nbr#97]\n",
            "                           :           +- *(3) Filter (isnotnull(store_nbr#97) AND isnotnull(date#96))\n",
            "                           :              +- FileScan csv [date#96,store_nbr#97] Batched: false, DataFilters: [isnotnull(store_nbr#97), isnotnull(date#96)], Format: CSV, Location: InMemoryFileIndex(1 paths)[file:/content/transactions.csv], PartitionFilters: [], PushedFilters: [IsNotNull(store_nbr), IsNotNull(date)], ReadSchema: struct<date:string,store_nbr:string>\n",
            "                           +- BroadcastExchange HashedRelationBroadcastMode(List(input[0, string, false]),false), [plan_id=11493]\n",
            "                              +- *(4) Filter isnotnull(date#639)\n",
            "                                 +- FileScan csv [date#639] Batched: false, DataFilters: [isnotnull(date#639)], Format: CSV, Location: InMemoryFileIndex(1 paths)[file:/content/oil.csv], PartitionFilters: [], PushedFilters: [IsNotNull(date)], ReadSchema: struct<date:string>\n",
            "\n",
            "\n"
          ]
        }
      ],
      "source": [
        "store_partition = (spark.sql(sql).repartition(spark.sparkContext.defaultParallelism, ['store_nbr'])).cache()\n",
        "store_partition.explain()"
      ]
    },
    {
      "cell_type": "code",
      "execution_count": null,
      "metadata": {
        "id": "seSxs0ZWQ2bi"
      },
      "outputs": [],
      "source": [
        "from pyspark.sql.types import *\n",
        "result_schema = StructType([\n",
        "                  StructField('ds', TimestampType()),\n",
        "                  StructField('store_nbr', IntegerType()),\n",
        "                  StructField('y', DoubleType()),\n",
        "                  StructField('yhat', DoubleType()),\n",
        "                  StructField('yhat_upper', DoubleType()),\n",
        "                  StructField('yhat_lower', DoubleType())\n",
        "])"
      ]
    },
    {
      "cell_type": "code",
      "execution_count": null,
      "metadata": {
        "id": "AhB5Dri4RKtE"
      },
      "outputs": [],
      "source": [
        "from pyspark.sql.functions import pandas_udf, PandasUDFType\n",
        "from prophet import Prophet\n",
        "@pandas_udf(result_schema, PandasUDFType.GROUPED_MAP)\n",
        "def forecast_sales(store_pd):\n",
        "  model = Prophet(interval_width=0.95, seasonality_mode= 'multiplicative', weekly_seasonality=True, yearly_seasonality=True)\n",
        "  model.fit(store_pd)\n",
        "  future_pd = model.make_future_dataframe(periods=5, freq='w')\n",
        "  forecast_pd = model.predict(future_pd)\n",
        "  f_pd = forecast_pd[['ds', 'yhat', 'yhat_upper', 'yhat_lower']].set_index('ds')\n",
        "  st_pd = store_pd[['ds', 'store_nbr', 'y']].set_index('ds')\n",
        "  result_pd = f_pd.join(st_pd, how='left')\n",
        "  result_pd.reset_index(level=0, inplace=True)\n",
        "  result_pd['store_nbr'] = store_pd['store_nbr'].iloc[0]\n",
        "  return result_pd[['ds', 'store_nbr', 'y', 'yhat', 'yhat_upper', 'yhat_lower']]"
      ]
    },
    {
      "cell_type": "code",
      "execution_count": null,
      "metadata": {
        "colab": {
          "base_uri": "https://localhost:8080/"
        },
        "id": "4lPJaXwqRTTw",
        "outputId": "21cd59dc-b21c-4fe2-fcfd-1fcc1ff27e87"
      },
      "outputs": [
        {
          "name": "stderr",
          "output_type": "stream",
          "text": [
            "/usr/local/lib/python3.8/dist-packages/pyspark/sql/pandas/group_ops.py:98: UserWarning:\n",
            "\n",
            "It is preferred to use 'applyInPandas' over this API. This API will be deprecated in the future releases. See SPARK-28264 for more details.\n",
            "\n"
          ]
        },
        {
          "name": "stdout",
          "output_type": "stream",
          "text": [
            "+-------------------+---------+-------+------------------+------------------+------------------+\n",
            "|                 ds|store_nbr|      y|              yhat|        yhat_upper|        yhat_lower|\n",
            "+-------------------+---------+-------+------------------+------------------+------------------+\n",
            "|2013-01-13 00:00:00|        2|10028.0| 9889.817919558755|10132.845851543845|  9639.71227146574|\n",
            "|2013-01-14 00:00:00|        2| 5963.0| 6264.312425101016| 6514.282262251256| 6013.667971233259|\n",
            "|2013-01-15 00:00:00|        2| 5839.0| 5810.659478560737| 6059.153863597482| 5549.416449159284|\n",
            "|2013-01-16 00:00:00|        2| 7144.0|6925.0181008192485| 7179.388668266316| 6685.752774376709|\n",
            "|2013-01-17 00:00:00|        2| 5705.0| 5640.869208989423| 5875.593761518979| 5395.194276291137|\n",
            "|2013-01-18 00:00:00|        2| 7439.0| 7525.513327394732| 7773.641633751039| 7284.055700329183|\n",
            "|2013-01-19 00:00:00|        2| 8905.0| 9091.278702476797| 9334.760818297893| 8842.052452892445|\n",
            "|2013-01-20 00:00:00|        2| 9917.0| 9924.855780413018|10167.066000869709| 9686.851794634791|\n",
            "|2013-01-21 00:00:00|        2| 7082.0| 6773.455976258274| 7020.988584094519| 6533.149572769736|\n",
            "|2013-01-22 00:00:00|        2| 6156.0| 6183.649203163551| 6408.104620546313| 5931.124321698264|\n",
            "|2013-01-23 00:00:00|        2| 6640.0| 6862.030550810622| 7099.865495009605| 6609.940764848306|\n",
            "|2013-01-24 00:00:00|        2| 5086.0| 5150.272373895004| 5394.441996679858| 4913.916969057361|\n",
            "|2013-01-25 00:00:00|        2| 6771.0|  6683.55647543563| 6923.816373945163| 6416.107039438293|\n",
            "|2013-01-26 00:00:00|        2| 8350.0| 8158.751810967771| 8430.742101317957| 7910.403178351157|\n",
            "|2013-01-27 00:00:00|        2| 9094.0| 9227.623776075137| 9491.220302371525| 8981.065165559683|\n",
            "|2013-02-01 00:00:00|        2|10267.0|10264.651577936454|  10523.8914908285|10005.285845033373|\n",
            "|2013-03-01 00:00:00|        2| 7611.0| 7610.646604056133|  7856.75610179223| 7348.507024312312|\n",
            "|2013-04-01 00:00:00|        2| 7525.0| 7524.957269514322|7764.6324764711635| 7272.791208284266|\n",
            "|2013-05-01 00:00:00|        2| 9546.0| 9545.776510403311| 9775.460842104074|   9301.2224166355|\n",
            "|2013-06-01 00:00:00|        2|10318.0|10317.503138909997|10564.336737151116|10083.650301783495|\n",
            "+-------------------+---------+-------+------------------+------------------+------------------+\n",
            "only showing top 20 rows\n",
            "\n"
          ]
        }
      ],
      "source": [
        "from pyspark.sql.functions import current_date\n",
        "results = (store_partition.groupby('store_nbr').apply(forecast_sales))\n",
        "results.cache()\n",
        "results.show()"
      ]
    },
    {
      "cell_type": "code",
      "execution_count": null,
      "metadata": {
        "colab": {
          "base_uri": "https://localhost:8080/"
        },
        "id": "-cHfObvwSIEm",
        "outputId": "bd31e403-ff7c-41b8-b643-90f5cbca5083"
      },
      "outputs": [
        {
          "name": "stdout",
          "output_type": "stream",
          "text": [
            "1423\n",
            "+---------+--------+\n",
            "|store_nbr|count(1)|\n",
            "+---------+--------+\n",
            "|       31|      31|\n",
            "|       28|      31|\n",
            "|       12|      31|\n",
            "|       13|      31|\n",
            "|        5|      31|\n",
            "|       37|      31|\n",
            "|        4|      31|\n",
            "|       49|      30|\n",
            "|       10|      31|\n",
            "|       50|      30|\n",
            "|       45|      31|\n",
            "|       38|      31|\n",
            "|       25|      32|\n",
            "|       32|      31|\n",
            "|       14|      31|\n",
            "|        2|      31|\n",
            "|       46|      31|\n",
            "|       18|      31|\n",
            "|       34|      31|\n",
            "|       26|      31|\n",
            "+---------+--------+\n",
            "only showing top 20 rows\n",
            "\n"
          ]
        }
      ],
      "source": [
        "results.coalesce(1)\n",
        "print(results.count())\n",
        "results.createOrReplaceTempView('forecasted')\n",
        "spark.sql(\"SELECT store_nbr, count(*) FROM  forecasted GROUP BY store_nbr\").show()"
      ]
    },
    {
      "cell_type": "markdown",
      "metadata": {
        "id": "Iz_ZjrIKhp9Q"
      },
      "source": [
        "ROLLING WINDOW AVERAGE"
      ]
    },
    {
      "cell_type": "code",
      "execution_count": null,
      "metadata": {
        "id": "q1vHlnx_itU8"
      },
      "outputs": [],
      "source": [
        "rdf = final_df.withColumn('rolling_average', f.avg(\"unit_sales\").over(Window.partitionBy(f.window(\"date\", \"7 days\"))))"
      ]
    },
    {
      "cell_type": "code",
      "execution_count": null,
      "metadata": {
        "colab": {
          "base_uri": "https://localhost:8080/"
        },
        "id": "NZWttzYZi0K8",
        "outputId": "b2cbc122-cab1-42e8-a1ff-3d45a86c8317"
      },
      "outputs": [
        {
          "name": "stdout",
          "output_type": "stream",
          "text": [
            "+----------------+\n",
            "| rolling_average|\n",
            "+----------------+\n",
            "|8.53073148946464|\n",
            "|8.53073148946464|\n",
            "|8.53073148946464|\n",
            "|8.53073148946464|\n",
            "|8.53073148946464|\n",
            "|8.53073148946464|\n",
            "|8.53073148946464|\n",
            "|8.53073148946464|\n",
            "|8.53073148946464|\n",
            "|8.53073148946464|\n",
            "|8.53073148946464|\n",
            "|8.53073148946464|\n",
            "|8.53073148946464|\n",
            "|8.53073148946464|\n",
            "|8.53073148946464|\n",
            "|8.53073148946464|\n",
            "|8.53073148946464|\n",
            "|8.53073148946464|\n",
            "|8.53073148946464|\n",
            "|8.53073148946464|\n",
            "+----------------+\n",
            "only showing top 20 rows\n",
            "\n"
          ]
        }
      ],
      "source": [
        "rdf.select('rolling_average').where('store_nbr == 48').show()"
      ]
    },
    {
      "cell_type": "code",
      "execution_count": null,
      "metadata": {
        "id": "hs6WZzgnMmxs"
      },
      "outputs": [],
      "source": []
    },
    {
      "cell_type": "markdown",
      "metadata": {
        "id": "ye4UvHDHy_9l"
      },
      "source": [
        "Decision Tree Regressor"
      ]
    },
    {
      "cell_type": "code",
      "execution_count": null,
      "metadata": {
        "id": "8Pv9tio92Lxq"
      },
      "outputs": [],
      "source": [
        "train, test = final_df.randomSplit([0.8,0.2],1234)"
      ]
    },
    {
      "cell_type": "code",
      "execution_count": null,
      "metadata": {
        "id": "8ecR8RO50CJ7"
      },
      "outputs": [],
      "source": [
        "assembler=VectorAssembler().setInputCols(['unit_sales','item_nbr','class','family_t','type_t', 'item_nbr']).setOutputCol('features')\n",
        "train_a1 = assembler.transform(train)\n",
        "train_b=train_a1.select(\"features\",train_a1.unit_sales.alias('label'))\n",
        "test_a = assembler.transform(test)\n",
        "test_b = test_a.select('features', test_a.unit_sales.alias('label'))"
      ]
    },
    {
      "cell_type": "code",
      "execution_count": null,
      "metadata": {
        "colab": {
          "base_uri": "https://localhost:8080/"
        },
        "id": "sNdBB2rkMm0l",
        "outputId": "1fb7141c-ee0c-4798-d6a4-3ccd294f57f5"
      },
      "outputs": [
        {
          "name": "stdout",
          "output_type": "stream",
          "text": [
            "+--------------------+-----+------------------+\n",
            "|            features|label|        prediction|\n",
            "+--------------------+-----+------------------+\n",
            "|[1.0,115611.0,101...|    1|0.9904470588235295|\n",
            "|[1.0,165551.0,112...|    1|0.9904470588235295|\n",
            "|[1.0,172343.0,100...|    1|0.9904470588235295|\n",
            "|[1.0,179600.0,100...|    1|0.9904470588235295|\n",
            "|[1.0,227111.0,250...|    1|0.9904470588235295|\n",
            "|[1.0,308916.0,300...|    1|0.9904470588235295|\n",
            "|[1.0,315322.0,108...|    1|0.9904470588235295|\n",
            "|[1.0,414888.0,309...|    1|0.9904470588235295|\n",
            "|[1.0,428488.0,303...|    1|0.9904470588235295|\n",
            "|[1.0,462673.0,104...|    1|0.9904470588235295|\n",
            "|[1.0,521818.0,105...|    1|0.9904470588235295|\n",
            "|[1.0,577745.0,103...|    1|0.9904470588235295|\n",
            "|[1.0,586969.0,100...|    1|0.9904470588235295|\n",
            "|[1.0,683722.0,106...|    1|0.9904470588235295|\n",
            "|[1.0,723210.0,212...|    1|0.9904470588235295|\n",
            "|[1.0,732006.0,264...|    1|0.9904470588235295|\n",
            "|[1.0,743496.0,222...|    1|0.9904470588235295|\n",
            "|[1.0,789224.0,304...|    1|0.9904470588235295|\n",
            "|[1.0,828632.0,264...|    1|0.9904470588235295|\n",
            "|[1.0,838408.0,212...|    1|0.9904470588235295|\n",
            "+--------------------+-----+------------------+\n",
            "only showing top 20 rows\n",
            "\n"
          ]
        }
      ],
      "source": [
        "from pyspark.ml.regression import DecisionTreeRegressor\n",
        "dt1 = DecisionTreeRegressor(labelCol=\"label\", featuresCol=\"features\")\n",
        "model1 = dt1.fit(train_b)\n",
        "test_dt = model1.transform(test_b)\n",
        "test_dt.show()"
      ]
    },
    {
      "cell_type": "code",
      "execution_count": null,
      "metadata": {
        "colab": {
          "base_uri": "https://localhost:8080/"
        },
        "id": "DiVLC5oPMm3Q",
        "outputId": "bb2f79cd-fa6c-425d-9827-351d171b2d10"
      },
      "outputs": [
        {
          "name": "stdout",
          "output_type": "stream",
          "text": [
            " -------------- R2 Score -----------------\n",
            "R2 : 0.5139418285971802\n",
            " -------------- RMSE Score -----------------\n",
            "RMSE : 12.984215908045982\n",
            " -------------- MAE Score -----------------\n",
            "MAE : 1.2035073627016069\n"
          ]
        }
      ],
      "source": [
        "evaluator = RegressionEvaluator()\n",
        "print(\" -------------- R2 Score -----------------\")\n",
        "print(\"R2 :\", evaluator.evaluate(test_dt,\n",
        "{evaluator.metricName: \"r2\"})\n",
        ")\n",
        "print(\" -------------- RMSE Score -----------------\")\n",
        "print(\"RMSE :\",evaluator.evaluate(test_dt,\n",
        "{evaluator.metricName: \"rmse\"})\n",
        ")\n",
        "print(\" -------------- MAE Score -----------------\")\n",
        "print(\"MAE :\",evaluator.evaluate(test_dt,\n",
        "{evaluator.metricName: \"mae\"})\n",
        ")"
      ]
    },
    {
      "cell_type": "code",
      "execution_count": null,
      "metadata": {
        "id": "8OYv_lH1Mm50"
      },
      "outputs": [],
      "source": []
    },
    {
      "cell_type": "code",
      "execution_count": null,
      "metadata": {
        "colab": {
          "background_save": true
        },
        "id": "IXybMwmAMmnw"
      },
      "outputs": [],
      "source": [
        "#Random Forest \n",
        "from pyspark.ml.regression import RandomForestRegressor\n",
        "from pyspark.ml.tuning import ParamGridBuilder, CrossValidator\n",
        "from pyspark.ml.evaluation import RegressionEvaluator\n",
        "\n",
        "# Create an initial RandomForest model.\n",
        "rf = RandomForestRegressor(labelCol=\"label\", featuresCol=\"features\")\n",
        "\n",
        "# Evaluate model\n",
        "rfevaluator = RegressionEvaluator(predictionCol=\"prediction\", labelCol=\"label\", metricName=\"rmse\")\n",
        "\n",
        "# Create ParamGrid for Cross Validation\n",
        "rfparamGrid = (ParamGridBuilder()\n",
        "             #.addGrid(rf.maxDepth, [2, 5, 10, 20, 30])\n",
        "               .addGrid(rf.maxDepth, [2, 5, 10])\n",
        "             #.addGrid(rf.maxBins, [10, 20, 40, 80, 100])\n",
        "              #  .addGrid(rf.maxBins, [5, 10, 20])\n",
        "             #.addGrid(rf.numTrees, [5, 20, 50, 100, 500])\n",
        "               .addGrid(rf.numTrees, [5, 15, 30])\n",
        "             .build())\n",
        "\n",
        "# Create 5-fold CrossValidator\n",
        "rfcv = CrossValidator(estimator = rf,\n",
        "                      estimatorParamMaps = rfparamGrid,\n",
        "                      evaluator = rfevaluator,\n",
        "                      numFolds = 6)\n",
        "\n",
        "# Run cross validations.\n",
        "rfcvModel = rfcv.fit(train_b)"
      ]
    },
    {
      "cell_type": "code",
      "execution_count": null,
      "metadata": {
        "colab": {
          "background_save": true
        },
        "id": "l9IkQOUGMmqF",
        "outputId": "860bb526-ccc5-44a1-df16-5a48c20865e2"
      },
      "outputs": [
        {
          "name": "stdout",
          "output_type": "stream",
          "text": [
            "RMSE: 12.032086952511243\n"
          ]
        }
      ],
      "source": [
        "# print(rfcvModel)\n",
        "\n",
        "# Use test set here so we can measure the accuracy of our model on new data\n",
        "rfpredictions = rfcvModel.transform(test_b)\n",
        "\n",
        "# cvModel uses the best model found from the Cross Validation\n",
        "# Evaluate best model\n",
        "print('RMSE:', rfevaluator.evaluate(rfpredictions))"
      ]
    },
    {
      "cell_type": "code",
      "execution_count": null,
      "metadata": {
        "colab": {
          "background_save": true
        },
        "id": "Sbbq5yzXgo28",
        "outputId": "00c03ec3-25a1-433c-e923-1163b2866a6d"
      },
      "outputs": [
        {
          "name": "stdout",
          "output_type": "stream",
          "text": [
            "+--------------------+-----+------------------+\n",
            "|            features|label|        prediction|\n",
            "+--------------------+-----+------------------+\n",
            "|[1.0,115611.0,101...|    1| 4.009435927142518|\n",
            "|[1.0,165551.0,112...|    1| 3.298435041089273|\n",
            "|[1.0,172343.0,100...|    1|3.3404295036669027|\n",
            "|[1.0,179600.0,100...|    1| 3.960007618641417|\n",
            "|[1.0,227111.0,250...|    1|2.7026030991118817|\n",
            "|[1.0,308916.0,300...|    1|2.0256115975712894|\n",
            "|[1.0,315322.0,108...|    1|2.7018844713944077|\n",
            "|[1.0,414888.0,309...|    1|2.1839823842713972|\n",
            "|[1.0,428488.0,303...|    1|2.1821360962831173|\n",
            "|[1.0,462673.0,104...|    1|2.4575267619421015|\n",
            "|[1.0,521818.0,105...|    1| 2.605984466141395|\n",
            "|[1.0,577745.0,103...|    1| 2.452084545163481|\n",
            "|[1.0,586969.0,100...|    1|3.3868641053114237|\n",
            "|[1.0,683722.0,106...|    1|2.5683029086193074|\n",
            "|[1.0,723210.0,212...|    1| 2.756807246218227|\n",
            "|[1.0,732006.0,264...|    1|1.8540489352699558|\n",
            "|[1.0,743496.0,222...|    1|  2.54619592933044|\n",
            "|[1.0,789224.0,304...|    1|2.5955185468443878|\n",
            "|[1.0,828632.0,264...|    1| 2.012455076088262|\n",
            "|[1.0,838408.0,212...|    1| 2.669268816019821|\n",
            "+--------------------+-----+------------------+\n",
            "only showing top 20 rows\n",
            "\n"
          ]
        }
      ],
      "source": [
        "rfpredictions.show()"
      ]
    },
    {
      "cell_type": "code",
      "execution_count": null,
      "metadata": {
        "id": "7cXROQnQMm8c"
      },
      "outputs": [],
      "source": []
    },
    {
      "cell_type": "markdown",
      "metadata": {
        "id": "liV8T_avyTk6"
      },
      "source": []
    },
    {
      "cell_type": "code",
      "execution_count": null,
      "metadata": {
        "id": "c7AGP1nyMm_W"
      },
      "outputs": [],
      "source": [
        "test_data = spark.read.csv('test.csv', header=True)"
      ]
    },
    {
      "cell_type": "code",
      "execution_count": null,
      "metadata": {
        "colab": {
          "base_uri": "https://localhost:8080/"
        },
        "id": "MzJORYEQMnB3",
        "outputId": "91a12f39-ee26-401a-b5d7-c8076e1169bd"
      },
      "outputs": [
        {
          "name": "stdout",
          "output_type": "stream",
          "text": [
            "+---------+----------+---------+--------+-----------+\n",
            "|       id|      date|store_nbr|item_nbr|onpromotion|\n",
            "+---------+----------+---------+--------+-----------+\n",
            "|125497040|2017-08-16|        1|   96995|      False|\n",
            "|125497041|2017-08-16|        1|   99197|      False|\n",
            "|125497042|2017-08-16|        1|  103501|      False|\n",
            "|125497043|2017-08-16|        1|  103520|      False|\n",
            "|125497044|2017-08-16|        1|  103665|      False|\n",
            "|125497045|2017-08-16|        1|  105574|      False|\n",
            "|125497046|2017-08-16|        1|  105575|      False|\n",
            "|125497047|2017-08-16|        1|  105576|      False|\n",
            "|125497048|2017-08-16|        1|  105577|      False|\n",
            "|125497049|2017-08-16|        1|  105693|      False|\n",
            "|125497050|2017-08-16|        1|  105737|      False|\n",
            "|125497051|2017-08-16|        1|  105857|      False|\n",
            "|125497052|2017-08-16|        1|  106716|      False|\n",
            "|125497053|2017-08-16|        1|  108079|      False|\n",
            "|125497054|2017-08-16|        1|  108634|      False|\n",
            "|125497055|2017-08-16|        1|  108696|      False|\n",
            "|125497056|2017-08-16|        1|  108698|      False|\n",
            "|125497057|2017-08-16|        1|  108701|       True|\n",
            "|125497058|2017-08-16|        1|  108786|      False|\n",
            "|125497059|2017-08-16|        1|  108797|       True|\n",
            "+---------+----------+---------+--------+-----------+\n",
            "only showing top 20 rows\n",
            "\n"
          ]
        }
      ],
      "source": [
        "test_data.show()"
      ]
    },
    {
      "cell_type": "code",
      "execution_count": null,
      "metadata": {
        "colab": {
          "base_uri": "https://localhost:8080/"
        },
        "id": "VrdUdy_1MnEr",
        "outputId": "e23f9091-4bdd-4f7b-8372-bad1382c6329"
      },
      "outputs": [
        {
          "name": "stdout",
          "output_type": "stream",
          "text": [
            "root\n",
            " |-- id: string (nullable = true)\n",
            " |-- date: string (nullable = true)\n",
            " |-- store_nbr: string (nullable = true)\n",
            " |-- item_nbr: string (nullable = true)\n",
            " |-- onpromotion: string (nullable = true)\n",
            "\n"
          ]
        }
      ],
      "source": [
        "test_data.printSchema()"
      ]
    },
    {
      "cell_type": "code",
      "execution_count": null,
      "metadata": {
        "id": "wQpSLaw3MnHT"
      },
      "outputs": [],
      "source": [
        "test_data = test_data.withColumn(\"item_nbr\", func.round(test_data[\"item_nbr\"]).cast(\"integer\"))\n",
        "test_data = test_data.withColumn(\"store_nbr\", func.round(test_data[\"store_nbr\"]).cast(\"integer\"))"
      ]
    },
    {
      "cell_type": "code",
      "execution_count": null,
      "metadata": {
        "id": "xPHOr_n7MnKF"
      },
      "outputs": [],
      "source": [
        "assembler=VectorAssembler().setInputCols(['item_nbr', 'store_nbr']).setOutputCol('features')\n",
        "test_a = assembler.transform(test_data)\n",
        "test_b1 = test_a.select('features')"
      ]
    },
    {
      "cell_type": "code",
      "execution_count": null,
      "metadata": {
        "id": "m7XsdxDoMnNF"
      },
      "outputs": [],
      "source": [
        "dt = DecisionTreeRegressor(labelCol=\"label\", featuresCol=\"features\")\n",
        "model = dt.fit(train_b)\n",
        "test_dt1 = model.transform(test_b1)\n"
      ]
    },
    {
      "cell_type": "code",
      "execution_count": null,
      "metadata": {
        "id": "C0ll9hkdMnQl"
      },
      "outputs": [],
      "source": []
    },
    {
      "cell_type": "code",
      "execution_count": null,
      "metadata": {
        "id": "_N3Ib02qMoMQ"
      },
      "outputs": [],
      "source": []
    }
  ],
  "metadata": {
    "colab": {
      "provenance": []
    },
    "kernelspec": {
      "display_name": "Python 3",
      "name": "python3"
    },
    "language_info": {
      "name": "python"
    }
  },
  "nbformat": 4,
  "nbformat_minor": 0
}